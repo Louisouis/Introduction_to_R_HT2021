{
 "cells": [
  {
   "cell_type": "markdown",
   "metadata": {},
   "source": [
    "# Introduction to R - Part 2\n",
    "In the first part we've seen how and what ype of data can be stored in R and what are some basic mathematical operations that can be performed on them. This part will focus on more functional aspects of R, i.e. reading and manipulating data sets.  \n",
    "The following topics will be covered:\n",
    "1. Relational and advanced vector operators\n",
    "2. Control statements in R: decision making and looping\n",
    "3. Functions and packages\n",
    "4. Reading data from external files\n",
    "\n",
    "## 1. Relational and advanced vector operators\n",
    "Operator |  Description\n",
    "---------|---------------------------------------------------------\n",
    "<        | Less than\n",
    "<=       | Less than or equal\n",
    ">        | Greater than\n",
    ">=       | Greater than or equal\n",
    "==       | Equality\n",
    "!=       | Inequality\n",
    "%%       | Remainder of vector on the left with vector on the right\n",
    "%/%      | Division of vector on the left by vector on the right\n",
    "%in%     | Identify element on left side of operator in vector on right side\n",
    "%\\*%     | Matrix multiplication"
   ]
  },
  {
   "cell_type": "markdown",
   "metadata": {},
   "source": [
    "## 2. Control statements in R\n",
    "In the previous part we have seen how to manipulate variables and store data or meta-data in them. However, the point in having data stored in variables is to do something with them and this can be achieved in a number of ways. R has a rich collection of function packages (curated on [The Comprehensive R Archive Network](https://cran.r-project.org)) offering functions that perform specific tasks (e.g. the ```boot``` package contains functions allowing easy bootstrapping methods, ```ggplot2``` is used for data plotting, ```dplyr``` allows for fast data manipulation, ```mada``` provides help with meta-analyses). However, when a function is not already available, we can use classical programming approaches to write it. Variables and data storage is one part of such a strategy. Using control statements is another. \n",
    "\n",
    "One such control statement is the conditional statement ```if (...) {} else {}```. The statement in the round brackets has to be a logical expression. If that expression evaluates to TRUE, the statements in the first set of curly brackets are executed. If the conditional expression evaluates to FALSE, the statements in the second pair of curly brackets are executed. Note that an ```else``` branch is not mandatory."
   ]
  },
  {
   "cell_type": "code",
   "execution_count": 4,
   "metadata": {},
   "outputs": [
    {
     "name": "stdout",
     "output_type": "stream",
     "text": [
      "[1] \"There are patients with steatosis grade 1.\"\n"
     ]
    }
   ],
   "source": [
    "steatosisStage <- c(\"S0\", \"S0\", \"S2\", \"S1\", \"S2\", \"S0\", \"S1\", \"S3\", \"S1\", \"S2\", \"S3\")\n",
    "if (\"S1\" %in% steatosisStage) {\n",
    "    print(\"There are patients with steatosis grade 1.\")\n",
    "} else {\n",
    "    print(\"There are no patients with steatosis grade 1\")\n",
    "}"
   ]
  },
  {
   "cell_type": "markdown",
   "metadata": {},
   "source": [
    "Looping statements are designed to perform the same task multiple times depending on some criterion. R offers the ```while```, and ```for``` loops for this purpose. ```while``` loops are testing a logical expression before executing the task that needs to be repeated and are typically used in cases where the number of necessary repetitions is not known in advance (e.g. the Euclidean algorithm to determine the greatest common divisor). When the number of repetitions is known in advance (e.g. data stored in an array has to be plotted and the size of the array is known), a ```for``` loop is used. Two examples below demonstrate the difference between the two looping structures."
   ]
  },
  {
   "cell_type": "code",
   "execution_count": 16,
   "metadata": {},
   "outputs": [
    {
     "name": "stdout",
     "output_type": "stream",
     "text": [
      "[1] 1\n",
      "[1] 1\n",
      "[1] 2\n",
      "[1] 3\n",
      "[1] 5\n",
      "[1] 8\n",
      "[1] 13\n",
      "[1] 21\n",
      "[1] 34\n",
      "[1] 55\n"
     ]
    }
   ],
   "source": [
    "# We are going to generate the first n Fibonacci numbers\n",
    "# using a while loop.\n",
    "counter <- 0\n",
    "fibo1 <- 1\n",
    "fibo2 <- 1\n",
    "aux <- 0\n",
    "n <- 10\n",
    "if (n == 1) {\n",
    "    print(fibo1)\n",
    "} else {\n",
    "    while (counter < n) {\n",
    "        if (counter == 0) {\n",
    "            print(fibo1)\n",
    "            print(fibo2)\n",
    "            counter <- counter + 2\n",
    "        }\n",
    "        aux <- fibo2\n",
    "        fibo2 <- fibo1 + fibo2\n",
    "        fibo1 <- aux\n",
    "        print(fibo2)\n",
    "        counter <- counter + 1\n",
    "    }\n",
    "}"
   ]
  },
  {
   "cell_type": "code",
   "execution_count": 9,
   "metadata": {
    "scrolled": true
   },
   "outputs": [
    {
     "name": "stdout",
     "output_type": "stream",
     "text": [
      "[1] 1\n",
      "[1] 4\n",
      "[1] 9\n",
      "[1] 16\n",
      "[1] 25\n",
      "[1] 36\n",
      "[1] 49\n"
     ]
    }
   ],
   "source": [
    "# This is an inefficient way of generating squares of integers,\n",
    "# but it is a good illustration of how the for loop works.\n",
    "v <- c(1, 2, 3, 4, 5, 6, 7)\n",
    "for (idx in v) {\n",
    "    print(idx ^ 2)\n",
    "}"
   ]
  },
  {
   "cell_type": "code",
   "execution_count": null,
   "metadata": {},
   "outputs": [],
   "source": [
    "# What would be a more efficient and elegant way of printing all the perfect squares that are less than 50?\n",
    "# Fill in the blanks. Hint: there is no need for more than these two lines of code.\n",
    "v <- seq()\n",
    "print()"
   ]
  },
  {
   "cell_type": "markdown",
   "metadata": {},
   "source": [
    "It is possible to interrupt the execution of a loop by using the ```break``` statement. Conversely, it is possible to skip an iteration and jump to the next one (or outside the loop if the looping condition is no longer valid) by using the ```next``` statement."
   ]
  }
 ],
 "metadata": {
  "kernelspec": {
   "display_name": "R",
   "language": "R",
   "name": "ir"
  },
  "language_info": {
   "codemirror_mode": "r",
   "file_extension": ".r",
   "mimetype": "text/x-r-source",
   "name": "R",
   "pygments_lexer": "r",
   "version": "3.6.1"
  }
 },
 "nbformat": 4,
 "nbformat_minor": 4
}
