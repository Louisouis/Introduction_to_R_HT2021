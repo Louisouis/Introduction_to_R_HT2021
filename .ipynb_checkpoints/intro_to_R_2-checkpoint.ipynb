{
 "cells": [
  {
   "cell_type": "markdown",
   "metadata": {},
   "source": [
    "# Introduction to R - Part 2\n",
    "In the first part we've seen how and what ype of data can be stored in R and what are some basic mathematical operations that can be performed on them. This part will focus on more functional aspects of R, i.e. reading and manipulating data sets.  \n",
    "The following topics will be covered:\n",
    "1. Relational and advanced vector operators\n",
    "2. Control statements in R: decision making and looping\n",
    "3. Functions and packages\n",
    "    1. Defining your own functions\n",
    "    2. Functions included in base R\n",
    "    3. Using function from other packages\n",
    "4. Reading, writing and manipulating data frames\n",
    "    1. Reading and writing data frames\n",
    "    2. Manipulating data frames\n",
    "\n",
    "## 1. Relational and advanced vector operators\n",
    "Operator |  Description\n",
    "---------|---------------------------------------------------------\n",
    "<        | Less than\n",
    "<=       | Less than or equal\n",
    ">        | Greater than\n",
    ">=       | Greater than or equal\n",
    "==       | Equality\n",
    "!=       | Inequality\n",
    "%%       | Remainder of vector on the left with vector on the right\n",
    "%/%      | Division of vector on the left by vector on the right\n",
    "%in%     | Identify element on left side of operator in vector on right side\n",
    "%\\*%     | Matrix multiplication"
   ]
  },
  {
   "cell_type": "markdown",
   "metadata": {},
   "source": [
    "## 2. Control statements in R\n",
    "In the previous part we have seen how to manipulate variables and store data or meta-data in them. However, the point in having data stored in variables is to do something with them and this can be achieved in a number of ways. R has a rich collection of function packages (curated on [The Comprehensive R Archive Network](https://cran.r-project.org)) offering functions that perform specific tasks (e.g. the ```boot``` package contains functions allowing easy bootstrapping methods, ```ggplot2``` is used for data plotting, ```dplyr``` allows for fast data manipulation, ```mada``` provides help with meta-analyses). However, when a function is not already available, we can use classical programming approaches to write it. Variables and data storage is one part of such a strategy. Using control statements is another. \n",
    "\n",
    "One such control statement is the conditional statement ```if (...) {} else {}```. The statement in the round brackets has to be a logical expression. If that expression evaluates to TRUE, the statements in the first set of curly brackets are executed. If the conditional expression evaluates to FALSE, the statements in the second pair of curly brackets are executed. Note that an ```else``` branch is not mandatory."
   ]
  },
  {
   "cell_type": "code",
   "execution_count": 4,
   "metadata": {},
   "outputs": [
    {
     "name": "stdout",
     "output_type": "stream",
     "text": [
      "[1] \"There are patients with steatosis grade 1.\"\n"
     ]
    }
   ],
   "source": [
    "steatosisStage <- c(\"S0\", \"S0\", \"S2\", \"S1\", \"S2\", \"S0\", \"S1\", \"S3\", \"S1\", \"S2\", \"S3\")\n",
    "if (\"S1\" %in% steatosisStage) {\n",
    "    print(\"There are patients with steatosis grade 1.\")\n",
    "} else {\n",
    "    print(\"There are no patients with steatosis grade 1\")\n",
    "}"
   ]
  },
  {
   "cell_type": "markdown",
   "metadata": {},
   "source": [
    "Looping statements are designed to perform the same task multiple times depending on some criterion. R offers the ```while```, and ```for``` loops for this purpose. ```while``` loops are testing a logical expression before executing the task that needs to be repeated and are typically used in cases where the number of necessary repetitions is not known in advance (e.g. the Euclidean algorithm to determine the greatest common divisor). When the number of repetitions is known in advance (e.g. data stored in an array has to be plotted and the size of the array is known), a ```for``` loop is used. Two examples below demonstrate the difference between the two looping structures."
   ]
  },
  {
   "cell_type": "code",
   "execution_count": 16,
   "metadata": {},
   "outputs": [
    {
     "name": "stdout",
     "output_type": "stream",
     "text": [
      "[1] 1\n",
      "[1] 1\n",
      "[1] 2\n",
      "[1] 3\n",
      "[1] 5\n",
      "[1] 8\n",
      "[1] 13\n",
      "[1] 21\n",
      "[1] 34\n",
      "[1] 55\n"
     ]
    }
   ],
   "source": [
    "# We are going to generate the first n Fibonacci numbers\n",
    "# using a while loop.\n",
    "counter <- 0\n",
    "fibo1 <- 1\n",
    "fibo2 <- 1\n",
    "aux <- 0\n",
    "n <- 10\n",
    "if (n == 1) {\n",
    "    print(fibo1)\n",
    "} else {\n",
    "    while (counter < n) {\n",
    "        if (counter == 0) {\n",
    "            print(fibo1)\n",
    "            print(fibo2)\n",
    "            counter <- counter + 2\n",
    "        }\n",
    "        aux <- fibo2\n",
    "        fibo2 <- fibo1 + fibo2\n",
    "        fibo1 <- aux\n",
    "        print(fibo2)\n",
    "        counter <- counter + 1\n",
    "    }\n",
    "}"
   ]
  },
  {
   "cell_type": "code",
   "execution_count": 9,
   "metadata": {
    "scrolled": true
   },
   "outputs": [
    {
     "name": "stdout",
     "output_type": "stream",
     "text": [
      "[1] 1\n",
      "[1] 4\n",
      "[1] 9\n",
      "[1] 16\n",
      "[1] 25\n",
      "[1] 36\n",
      "[1] 49\n"
     ]
    }
   ],
   "source": [
    "# This is an inefficient way of generating squares of integers,\n",
    "# but it is a good illustration of how the for loop works.\n",
    "v <- c(1, 2, 3, 4, 5, 6, 7)\n",
    "for (idx in v) {\n",
    "    print(idx ^ 2)\n",
    "}"
   ]
  },
  {
   "cell_type": "code",
   "execution_count": null,
   "metadata": {},
   "outputs": [],
   "source": [
    "# What would be a more efficient and elegant way of printing all the perfect squares that are less than 50?\n",
    "# Fill in the blanks. Hint: there is no need for more than these two lines of code.\n",
    "v <- seq(...)\n",
    "print(...)"
   ]
  },
  {
   "cell_type": "markdown",
   "metadata": {},
   "source": [
    "It is possible to interrupt the execution of a loop by using the ```break``` statement. Conversely, it is possible to skip an iteration and jump to the next one (or outside the loop if the looping condition is no longer TRUE) by using the ```next``` statement.\n",
    "\n",
    "## 3. Functions and packages\n",
    "### A. Defining your own functions\n",
    "Functions are program units that perform a well-defined task. The need to organise code into functions arises when a particular task needs to be repeated throughout a code. Functions are also helpful for structuring a code and increasing readability for yourself and other users.  \n",
    "In R function definitions are described in the following way:  \n",
    "```\n",
    "functionName <- function(argument1, argument2, argument3=1...) {\n",
    "   functionBody\n",
    "   returnStatement\n",
    "}\n",
    "```  \n",
    "Let's now examine the different parts of a function as given above:  \n",
    "* ```functionName``` - is an arbitrary name chosen to refer to the function. This name will be used throughout the code whenever a function call is necessary.\n",
    "* ```argument1, argument2, argument3=1, ...``` - these are arguments of the function and are used to pass on information to the function. These placeholders are populated with actual values (numeric, logical etc.) when the function is called. Some functions may not have any arguments at all, and some arguments may be pre-defined, i.e. they can have default values, like ```argument3```.\n",
    "* ```functionBody``` - contains the code of the function that will perform a specific task.\n",
    "* ```returnStatement``` - While in most programming languages the return value has to be preceded by a specific keyword, in R it is the last statement in the body of the function that constitutes the return value of the function.  \n",
    "\n",
    "Let's now take a look at a real-world function. Assuming that you have a data set with patients' blood test results, you realise that the cholesterol measurements (LDL, HDL and total) are all in mmol/l but you need them to be in mg/dl for a reporting software. Having all the data loaded into R, it will be easier to write a function that does the conversion than to do it manually. Luckily, all three cholesterol types can be converted between the two units using the same formula.\n",
    "Below is an example of how we could convert from mmol/l to mg/dl."
   ]
  },
  {
   "cell_type": "code",
   "execution_count": 18,
   "metadata": {},
   "outputs": [],
   "source": [
    "cholesterolMmolToMg <- function(value) {\n",
    "    value * 38.67\n",
    "}"
   ]
  },
  {
   "cell_type": "code",
   "execution_count": 25,
   "metadata": {},
   "outputs": [
    {
     "data": {
      "text/html": [
       "<ol class=list-inline>\n",
       "\t<li>216.1653</li>\n",
       "\t<li>220.0323</li>\n",
       "\t<li>177.882</li>\n",
       "\t<li>209.9781</li>\n",
       "\t<li>233.9535</li>\n",
       "\t<li>213.0717</li>\n",
       "\t<li>189.8697</li>\n",
       "\t<li>157.0002</li>\n",
       "\t<li>211.1382</li>\n",
       "\t<li>211.9116</li>\n",
       "</ol>\n"
      ],
      "text/latex": [
       "\\begin{enumerate*}\n",
       "\\item 216.1653\n",
       "\\item 220.0323\n",
       "\\item 177.882\n",
       "\\item 209.9781\n",
       "\\item 233.9535\n",
       "\\item 213.0717\n",
       "\\item 189.8697\n",
       "\\item 157.0002\n",
       "\\item 211.1382\n",
       "\\item 211.9116\n",
       "\\end{enumerate*}\n"
      ],
      "text/markdown": [
       "1. 216.1653\n",
       "2. 220.0323\n",
       "3. 177.882\n",
       "4. 209.9781\n",
       "5. 233.9535\n",
       "6. 213.0717\n",
       "7. 189.8697\n",
       "8. 157.0002\n",
       "9. 211.1382\n",
       "10. 211.9116\n",
       "\n",
       "\n"
      ],
      "text/plain": [
       " [1] 216.1653 220.0323 177.8820 209.9781 233.9535 213.0717 189.8697 157.0002\n",
       " [9] 211.1382 211.9116"
      ]
     },
     "metadata": {},
     "output_type": "display_data"
    }
   ],
   "source": [
    "cholesterolMmolToMg <- function(value) {\n",
    "    value * 38.67\n",
    "}\n",
    "totalCholesterol <- c(5.59, 5.69, 4.60, 5.43, 6.05, 5.51, 4.91, 4.06, 5.46, 5.48)\n",
    "cholesterolMmolToMg(totalCholesterol)"
   ]
  },
  {
   "cell_type": "markdown",
   "metadata": {},
   "source": [
    "For the sake of completeness, let's also consider having the reverse operation, i.e. going from mg/dl to mmol/l. A function performing this task can be written in a very similar fashion to the one above.\n",
    "\n",
    "__Q__: Having too many functions can sometime lead to code fragmentation and, especially for complementary operations like unit conversions, it is possible to merge the two functionalities in a single function. Write a function that converts a given value into mmol/l or mg/dl, by using a second argument that indicates the unit to convert into."
   ]
  },
  {
   "cell_type": "code",
   "execution_count": 17,
   "metadata": {},
   "outputs": [],
   "source": [
    "cholesterolUnitChange <- function(value, direction) {\n",
    "    ...\n",
    "}"
   ]
  },
  {
   "cell_type": "markdown",
   "metadata": {},
   "source": [
    "__Q__: Can we pass on a vector to this function? If yes, what happens if one or more elements of that vector are NA?"
   ]
  },
  {
   "cell_type": "code",
   "execution_count": null,
   "metadata": {},
   "outputs": [],
   "source": [
    "totalCholesterol <- c(5.59, 5.69, 4.60, 5.43, 6.05, 5.51, 4.91, 4.06, 5.46, 5.48)  # In mmol/l\n",
    "totalCholesterolMg <- cholesterolUnitChange(totalCholesterol, \"mg/dl\")\n",
    "\n",
    "totalCholesterolIncomplete <- c(5.59, 5.69, 4.60, 5.43, NA, 5.51, 4.91, NA, 5.46, 5.48)  # In mmol/l\n",
    "totalCholesterolMg <- cholesterolUnitChange(totalCholesterolIncomplete, \"mg/dl\")"
   ]
  },
  {
   "cell_type": "markdown",
   "metadata": {},
   "source": [
    "### B. Functions included in base R\n",
    "The base package (loaded automatically whenever you start R) contains a whole host of utility functions that can be used in day-to-day data manipulation tasks.  \n",
    "The list below contains some of the more frequently used functions along with a brief description of how they work.\n",
    "\n",
    "* __sort(vectorName, decreasing=FALSE)__ - Sorts the elements of a vector in increasing order. If decreasing is set to TRUE, the function will sort the elements of the vector in decreasing order.\n",
    "* __unlit(listName)__ - transforms a list into a vector. If list elements are of different types, they will be converted in the more \"permissive\" data type. E.g. if there are numeric and character/string elements in a list, the resulting vector will contain string elements. If there are numeric and logical elements, the resulting vector will contain numeric elements. If there are string and logical elements, the resulting vector will contain string elements.\n",
    "* __colSums(arrayName, na.rm=FALSE)__ - return sums of elements in columns of an array.\n",
    "* __rowSums(arrayName, na.rm=FALSE)__ - return sums of elements in rows of an array.\n",
    "* __apply(arrayName, margin, functionName)__ - A function is applied to elements of an array or matrix. The subset of elements across which to apply the function are determined by margin, which can be 1 for rows, 2 for columns, c(1, 2) for rows and columns etc. Example: assuming myArray is a 3x3x2 array, ```apply(myArray, c(1), mean)``` will return the means across rows in the two matrices in myArray.\n",
    "* __lapply(listName, functionName)__ - Applies a function on list elements and returns the result as a list.\n",
    "* __sapply(dataStructureName, functionName)__ - Applies a function on a vector, list or data frame and returns a vector or matrix.\n",
    "* __tapply(dataStuctureName, index, functionName)__ - Applies a function on all factors in dataStructureName; the factors to cover are in a list called index.\n",
    "* __is.numeric(x)__, __is.double(x)__, __is.logical(x)__, etc. - These functions check whether x is of a certain data type (or structure). If so, the functions return TRUE, otherwise they return FALSE.\n",
    "* __as.numeric(x)__, __as.logical(x)__, etc. - These functions convert x into a certain data type (or structure). If conversion is not possible (e.g. from character to numeric), NA is returned along with a warning message.\n",
    "* __str(dataStructureName)__ - Displays the structure of an R data structure\n",
    "* __summary(dataStructureName)__ - Displays statistical summaries of a data set.\n",
    "\n",
    "### C. Using functions from other packages\n",
    "While R comes with a large number of built-in packages (see a list [here](https://www.tutorialspoint.com/r/r_packages.htm)), it is sometimes necessary to have additional functionality, provided by third-party packages.  \n",
    "New packages can be installed with:"
   ]
  },
  {
   "cell_type": "code",
   "execution_count": 1,
   "metadata": {},
   "outputs": [
    {
     "name": "stderr",
     "output_type": "stream",
     "text": [
      "also installing the dependencies ‘isoband’, ‘rlang’\n",
      "\n",
      "Updating HTML index of packages in '.Library'\n",
      "Making 'packages.html' ... done\n"
     ]
    }
   ],
   "source": [
    "install.packages(\"ggplot2\")"
   ]
  },
  {
   "cell_type": "markdown",
   "metadata": {},
   "source": [
    "Now the ```ggplot2``` package is installed on the computer. To allow R to use its functions, the package needs to be loaded:"
   ]
  },
  {
   "cell_type": "code",
   "execution_count": 22,
   "metadata": {},
   "outputs": [],
   "source": [
    "library(\"ggplot2\")"
   ]
  },
  {
   "cell_type": "markdown",
   "metadata": {},
   "source": [
    "Now we all functions packaged in ```ggplot2``` are available and can be used. As ```ggplot2``` is a graphics and plotting package, let's try out how it works. We will define a vector and use a scatterplot to represent it graphically."
   ]
  },
  {
   "cell_type": "code",
   "execution_count": 30,
   "metadata": {
    "scrolled": false
   },
   "outputs": [
    {
     "data": {
      "image/png": "[encoded data removed]",
      "text/plain": [
       "plot without title"
      ]
     },
     "metadata": {},
     "output_type": "display_data"
    }
   ],
   "source": [
    "# We will define a data frame with total and LDL cholesterol measured in 10 patients and plot\n",
    "# LDL cholesterol against total cholesterol.\n",
    "totalCholesterol <- data.frame(totalChol <- c(4.06, 5.46, 5.48, 3.70, 4.91, 4.78, 5.30, 5.92, 4.22, 5.15),\n",
    "                              ldlChol <- c(1.8, 3.5, 3.7, 2.1, 3.1, 3.3, 3.2, 4.1, 1.9, 3.4))\n",
    "ggplot(totalCholesterol, aes(x=totalChol, y=ldlChol)) + geom_point()"
   ]
  },
  {
   "cell_type": "markdown",
   "metadata": {},
   "source": [
    "R packages always come with a documentation detailing functions available in that package. The [CRAN](https://cran.r-project.org/) repository will contain these documentation for each package."
   ]
  },
  {
   "cell_type": "markdown",
   "metadata": {},
   "source": [
    "## 4. Reading, writing and manipulating data frames\n",
    "### A. Reading and writnig data frames \n",
    "It is not feasible (and it is error-prone!) to enter large data sets into R by hand. Additionally, data collection most often than not happens using applications that can handle large tables (such as Excel). Therefore, data sets often come in file formats such as .xlsx (Excel spreadsheets) or .csv (comma separated values, a text-based representation of data tables). In this section we will see hpw to load these two file types into R as well as how to write our own data frames into .csv or .xlsx files.  \n",
    "To be able to run the examples below, make sure you check out the entire GitHub repository from [here](https://github.com/m-ferenc/Introduction_to_R_HT2021.git) as it contains the relevant data files.  \n",
    "We will start with reading the .csv file first. To make sure you have ```nafld_dataset.csv``` in your current working directory, check what that directory is and what are it's contents. You can do this like this:\n",
    "- write files to CSV\n",
    "- data structuring without tidyverse, but refer to tidyverse. End of part 2."
   ]
  },
  {
   "cell_type": "code",
   "execution_count": 2,
   "metadata": {},
   "outputs": [
    {
     "data": {
      "text/html": [
       "'/Users/mferenc/Documents/GitHub/Introduction_to_R_HT2021'"
      ],
      "text/latex": [
       "'/Users/mferenc/Documents/GitHub/Introduction\\_to\\_R\\_HT2021'"
      ],
      "text/markdown": [
       "'/Users/mferenc/Documents/GitHub/Introduction_to_R_HT2021'"
      ],
      "text/plain": [
       "[1] \"/Users/mferenc/Documents/GitHub/Introduction_to_R_HT2021\""
      ]
     },
     "metadata": {},
     "output_type": "display_data"
    },
    {
     "data": {
      "text/html": [
       "<ol class=list-inline>\n",
       "\t<li>'LICENSE'</li>\n",
       "\t<li>'intro_to_R_1.ipynb'</li>\n",
       "\t<li>'intro_to_R_2.ipynb'</li>\n",
       "\t<li>'nafld_dataset.csv'</li>\n",
       "\t<li>'nafld_dataset.xlsx'</li>\n",
       "</ol>\n"
      ],
      "text/latex": [
       "\\begin{enumerate*}\n",
       "\\item 'LICENSE'\n",
       "\\item 'intro\\_to\\_R\\_1.ipynb'\n",
       "\\item 'intro\\_to\\_R\\_2.ipynb'\n",
       "\\item 'nafld\\_dataset.csv'\n",
       "\\item 'nafld\\_dataset.xlsx'\n",
       "\\end{enumerate*}\n"
      ],
      "text/markdown": [
       "1. 'LICENSE'\n",
       "2. 'intro_to_R_1.ipynb'\n",
       "3. 'intro_to_R_2.ipynb'\n",
       "4. 'nafld_dataset.csv'\n",
       "5. 'nafld_dataset.xlsx'\n",
       "\n",
       "\n"
      ],
      "text/plain": [
       "[1] \"LICENSE\"            \"intro_to_R_1.ipynb\" \"intro_to_R_2.ipynb\"\n",
       "[4] \"nafld_dataset.csv\"  \"nafld_dataset.xlsx\""
      ]
     },
     "metadata": {},
     "output_type": "display_data"
    }
   ],
   "source": [
    "# Ask R what the current working directory is. \n",
    "getwd()\n",
    "# Now list the contents of this directory and check that nafld_dataset.csv is available.\n",
    "dir()"
   ]
  },
  {
   "cell_type": "markdown",
   "metadata": {},
   "source": [
    "R has a built-in CSV reader, ```read.csv()```. This can take several arguments (you can read more about the individual arguments of this and any function, by typing ?read.csv or ?functionName in the R console):  \n",
    "```read.csv(fileName, header=FALSE, sep=\"\")```\n",
    "* fileName - is the name of the CSV file we want to load into R;\n",
    "* header - if TRUE, the first row will be considered to contain column labels;\n",
    "* sep - if empty, white spaces (space, enter or TAB) will be considered as value separators; otherwise a different separator can be specified here.  \n",
    "\n",
    "Before customising arguments (other than the file name), it is worth checking whether ```read.csv()``` can figure out on its own what the structure of your data file is. This can often be a successful endeavour and saves you time."
   ]
  },
  {
   "cell_type": "code",
   "execution_count": 5,
   "metadata": {
    "scrolled": true
   },
   "outputs": [
    {
     "name": "stdout",
     "output_type": "stream",
     "text": [
      "'data.frame':\t30 obs. of  39 variables:\n",
      " $ studyId   : Factor w/ 1 level \"Petta2017\": 1 1 1 1 1 1 1 1 1 1 ...\n",
      " $ country   : Factor w/ 3 levels \"France\",\"Hong Kong\",..: 3 2 3 3 1 3 3 1 3 2 ...\n",
      " $ continent : Factor w/ 2 levels \"Asia\",\"Europe\": 2 1 2 2 2 2 2 2 2 1 ...\n",
      " $ centre    : Factor w/ 3 levels \"Petta\",\"Wong\",..: 1 2 1 1 3 1 1 3 1 2 ...\n",
      " $ gender    : Factor w/ 2 levels \"F\",\"M\": 1 2 1 1 2 1 2 2 1 1 ...\n",
      " $ age       : int  59 29 54 56 65 61 40 68 53 55 ...\n",
      " $ height    : num  1.4 1.7 1.69 1.61 1.7 1.5 1.8 1.65 1.63 1.59 ...\n",
      " $ weight    : num  50 69.8 69 62.7 70 54.5 80.3 66 64.5 61.5 ...\n",
      " $ bmi       : num  24.1 24.2 24.2 24.2 24.2 24.2 24.2 24.2 24.3 24.3 ...\n",
      " $ waist_circ: num  81 NA 92 86 84 87 91 95 91 83 ...\n",
      " $ dm2       : Factor w/ 2 levels \"N\",\"Y\": 1 1 1 2 1 2 1 1 1 2 ...\n",
      " $ hten      : Factor w/ 2 levels \"N\",\"Y\": 2 1 1 2 2 1 1 2 2 2 ...\n",
      " $ plt       : int  315 232 303 303 217 372 192 196 222 254 ...\n",
      " $ inr       : num  1 0.9 1 0.9 1 1 1 1.1 0.9 0.9 ...\n",
      " $ bil       : num  0.2 0.9 1.1 0.4 0.9 0.3 0.5 0.6 0.4 0.5 ...\n",
      " $ alt       : int  45 141 84 22 84 54 23 32 78 26 ...\n",
      " $ ast       : int  23 30 79 19 44 38 22 29 91 19 ...\n",
      " $ alp       : int  NA 58 NA NA 66 NA NA 69 NA 53 ...\n",
      " $ ggt       : int  104 137 115 22 194 76 24 236 156 11 ...\n",
      " $ alb       : int  42 51 45 51 45 47 44 40 50 44 ...\n",
      " $ tchol     : num  4.99 5.39 10.1 5.56 6.72 4.47 3.95 4.63 9.51 3.89 ...\n",
      " $ hdl_chol  : num  1.5 2.3 NA 1.3 1.1 1.1 1.2 1.7 4.5 1 ...\n",
      " $ tg        : num  0.8 1.1 NA 1.3 2.1 2.6 1.2 1.3 0.7 1.8 ...\n",
      " $ fglu      : num  4.8 5.4 5.8 7.5 5 5.5 3.7 4.7 4.7 5.9 ...\n",
      " $ bx_date   : Factor w/ 30 levels \"01/07/2007\",\"03/02/2010\",..: 23 5 22 7 1 13 26 17 29 28 ...\n",
      " $ bx_length : num  21 26 20 21 6 18 18 23 21 17 ...\n",
      " $ bx_tracts : int  NA 8 NA NA 4 NA NA 20 NA 10 ...\n",
      " $ bx_fib    : num  1 0 2 0 0 2 2 3 0 0 ...\n",
      " $ bx_ball   : int  2 0 1 0 NA 1 1 1 0 0 ...\n",
      " $ bx_infl   : int  1 1 2 1 NA 2 1 1 1 0 ...\n",
      " $ bx_steat  : int  1 1 1 1 NA 2 3 1 1 1 ...\n",
      " $ bx_nas    : int  4 2 4 2 NA 5 5 3 2 1 ...\n",
      " $ te_date   : Factor w/ 30 levels \"02/02/2010\",\"04/04/2008\",..: 23 3 22 7 15 12 27 18 29 26 ...\n",
      " $ bx_te_days: int  0 1 0 0 46 0 0 0 0 1 ...\n",
      " $ probe     : Factor w/ 1 level \"M\": 1 1 1 1 1 1 1 1 1 1 ...\n",
      " $ lsm       : num  4.4 6 7.9 4.9 3.7 6.6 6.2 13.3 6.4 4.3 ...\n",
      " $ iqr       : num  0.2 0.4 2.1 0.7 0.5 1.9 1.3 3.1 1.4 0.9 ...\n",
      " $ iqr_median: num  0.05 0.07 0.27 0.14 0.14 0.29 0.21 0.23 0.22 0.21 ...\n",
      " $ success   : int  90 100 90 90 100 100 90 86 90 67 ...\n"
     ]
    }
   ],
   "source": [
    "nafldData <- read.csv(\"nafld_dataset.csv\")\n",
    "str(nafldData)"
   ]
  },
  {
   "cell_type": "markdown",
   "metadata": {},
   "source": [
    "As you can see, ```read.csv()``` did a great job at figuring out whether there was a header (there was, we can see that the field names are meaningful) and what the separator was (comma, in this case).  \n",
    "Now let's try and read the exact same data set from an Excel spreadsheet. For this, we will need to load an external package, called ```readxl```, that contains the ```read_excel()``` function."
   ]
  },
  {
   "cell_type": "code",
   "execution_count": 9,
   "metadata": {},
   "outputs": [
    {
     "name": "stdout",
     "output_type": "stream",
     "text": [
      "Classes ‘tbl_df’, ‘tbl’ and 'data.frame':\t30 obs. of  39 variables:\n",
      " $ studyId   : chr  \"Petta2017\" \"Petta2017\" \"Petta2017\" \"Petta2017\" ...\n",
      " $ country   : chr  \"Italy\" \"Hong Kong\" \"Italy\" \"Italy\" ...\n",
      " $ continent : chr  \"Europe\" \"Asia\" \"Europe\" \"Europe\" ...\n",
      " $ centre    : chr  \"Petta\" \"Wong\" \"Petta\" \"Petta\" ...\n",
      " $ gender    : chr  \"F\" \"M\" \"F\" \"F\" ...\n",
      " $ age       : num  59.1 29 53.9 55.7 64.7 ...\n",
      " $ height    : num  1.44 1.7 1.69 1.61 1.7 1.5 1.82 1.65 1.63 1.59 ...\n",
      " $ weight    : num  50 69.8 69 62.7 70 54.5 80.3 66 64.5 61.5 ...\n",
      " $ bmi       : num  24.1 24.2 24.2 24.2 24.2 ...\n",
      " $ waist_circ: num  81 NA 92 86 84 87 91 95 91 83 ...\n",
      " $ dm2       : chr  \"N\" \"N\" \"N\" \"Y\" ...\n",
      " $ hten      : chr  \"Y\" \"N\" \"N\" \"Y\" ...\n",
      " $ plt       : num  315 232 303 303 217 372 192 196 222 254 ...\n",
      " $ inr       : num  1.02 0.93 0.95 0.9 1.03 1 1 1.09 0.89 0.93 ...\n",
      " $ bil       : num  0.2 0.877 1.14 0.4 0.877 ...\n",
      " $ alt       : num  45 141 84 22 84 54 23 32 78 26 ...\n",
      " $ ast       : num  23 30 79 19 44 38 22 29 91 19 ...\n",
      " $ alp       : num  NA 58 NA NA 66 NA NA 69 NA 53 ...\n",
      " $ ggt       : num  104 137 115 22 194 76 24 236 156 11 ...\n",
      " $ alb       : num  42 51 45 51 44.8 47 43.5 40 50.1 44 ...\n",
      " $ tchol     : num  4.99 5.39 10.1 5.56 6.72 ...\n",
      " $ hdl_chol  : num  1.5 2.29 NA 1.29 1.13 ...\n",
      " $ tg        : num  0.847 1.1 NA 1.345 2.13 ...\n",
      " $ fglu      : num  4.84 5.41 5.78 7.51 5.01 ...\n",
      " $ bx_date   : POSIXct, format: \"2007-10-25\" \"2011-09-07\" ...\n",
      " $ bx_length : num  21 26 20 21 6 18 18 23 21 17 ...\n",
      " $ bx_tracts : num  NA 8 NA NA 4 NA NA 20 NA 10 ...\n",
      " $ bx_fib    : num  1 0 2 0 0 2 2 3 0 0 ...\n",
      " $ bx_ball   : num  2 0 1 0 NA 1 1 1 0 0 ...\n",
      " $ bx_infl   : num  1 1 2 1 NA 2 1 1 1 0 ...\n",
      " $ bx_steat  : chr  \"1\" \"1\" \"1\" \"1\" ...\n",
      " $ bx_nas    : num  4 2 4 2 NA 5 5 3 2 1 ...\n",
      " $ te_date   : POSIXct, format: \"2007-10-25\" \"2011-09-06\" ...\n",
      " $ bx_te_days: num  0 1 0 0 46 0 0 0 0 1 ...\n",
      " $ probe     : chr  \"M\" \"M\" \"M\" \"M\" ...\n",
      " $ lsm       : num  4.4 6 7.9 4.9 3.7 6.6 6.2 13.3 6.4 4.3 ...\n",
      " $ iqr       : num  0.2 0.4 2.1 0.7 0.5 1.9 1.3 3.1 1.4 0.9 ...\n",
      " $ iqr_median: num  0.0455 0.0667 0.2658 0.1429 0.1351 ...\n",
      " $ success   : num  90 100 90 90 100 100 90 86 90 67 ...\n"
     ]
    }
   ],
   "source": [
    "library(readxl)\n",
    "nafldData2 <- read_excel(\"nafld_dataset.xlsx\")\n",
    "str(nafldData2)"
   ]
  },
  {
   "cell_type": "markdown",
   "metadata": {},
   "source": [
    "You may rightly assume that reading the two different files with different functions should result in identical data sets, after all, the underlying data is identical between the two files. Let's see if this is the case. The ```identical()``` function in R returns TRUE if its arguments are identical or FALSE otherwise."
   ]
  },
  {
   "cell_type": "code",
   "execution_count": 10,
   "metadata": {},
   "outputs": [
    {
     "data": {
      "text/html": [
       "FALSE"
      ],
      "text/latex": [
       "FALSE"
      ],
      "text/markdown": [
       "FALSE"
      ],
      "text/plain": [
       "[1] FALSE"
      ]
     },
     "metadata": {},
     "output_type": "display_data"
    }
   ],
   "source": [
    "identical(nafldData, nafldData2)"
   ]
  },
  {
   "cell_type": "markdown",
   "metadata": {},
   "source": [
    "While the underlying data was the same in both files, R returned different data structures when we used the reading functions. For ```read.csv()```, the result was a data frame, with we we are already familiar. ```read_excel()``` returned a tibble, which is a non-standard R data structure and it plays a major role in the so-called tidyverse. Tidyverse is a suite of R packages that make data manipulation easier with lots of helper functions. You can read more about tidyverse [here](https://www.tidyverse.org). The good news is that tibbles can also behave as data frames. However, for the rest of this section we will use the ```nafldData``` data frame.  \n",
    "As it turns out, there are quite a lot of fields in this data set which represents blood serum, liver biopsy and liver stiffness measurement related data. However, not all fields contains data for every patient.  Let's attempt to extract the only columns that contain a value for each patient."
   ]
  },
  {
   "cell_type": "code",
   "execution_count": 19,
   "metadata": {
    "scrolled": true
   },
   "outputs": [
    {
     "name": "stdout",
     "output_type": "stream",
     "text": [
      "'data.frame':\t30 obs. of  29 variables:\n",
      " $ studyId   : Factor w/ 1 level \"Petta2017\": 1 1 1 1 1 1 1 1 1 1 ...\n",
      " $ country   : Factor w/ 3 levels \"France\",\"Hong Kong\",..: 3 2 3 3 1 3 3 1 3 2 ...\n",
      " $ continent : Factor w/ 2 levels \"Asia\",\"Europe\": 2 1 2 2 2 2 2 2 2 1 ...\n",
      " $ centre    : Factor w/ 3 levels \"Petta\",\"Wong\",..: 1 2 1 1 3 1 1 3 1 2 ...\n",
      " $ gender    : Factor w/ 2 levels \"F\",\"M\": 1 2 1 1 2 1 2 2 1 1 ...\n",
      " $ age       : int  59 29 54 56 65 61 40 68 53 55 ...\n",
      " $ height    : num  1.4 1.7 1.69 1.61 1.7 1.5 1.8 1.65 1.63 1.59 ...\n",
      " $ weight    : num  50 69.8 69 62.7 70 54.5 80.3 66 64.5 61.5 ...\n",
      " $ bmi       : num  24.1 24.2 24.2 24.2 24.2 24.2 24.2 24.2 24.3 24.3 ...\n",
      " $ dm2       : Factor w/ 2 levels \"N\",\"Y\": 1 1 1 2 1 2 1 1 1 2 ...\n",
      " $ hten      : Factor w/ 2 levels \"N\",\"Y\": 2 1 1 2 2 1 1 2 2 2 ...\n",
      " $ plt       : int  315 232 303 303 217 372 192 196 222 254 ...\n",
      " $ inr       : num  1 0.9 1 0.9 1 1 1 1.1 0.9 0.9 ...\n",
      " $ bil       : num  0.2 0.9 1.1 0.4 0.9 0.3 0.5 0.6 0.4 0.5 ...\n",
      " $ alt       : int  45 141 84 22 84 54 23 32 78 26 ...\n",
      " $ ast       : int  23 30 79 19 44 38 22 29 91 19 ...\n",
      " $ ggt       : int  104 137 115 22 194 76 24 236 156 11 ...\n",
      " $ alb       : int  42 51 45 51 45 47 44 40 50 44 ...\n",
      " $ tchol     : num  4.99 5.39 10.1 5.56 6.72 4.47 3.95 4.63 9.51 3.89 ...\n",
      " $ fglu      : num  4.8 5.4 5.8 7.5 5 5.5 3.7 4.7 4.7 5.9 ...\n",
      " $ bx_date   : Factor w/ 30 levels \"01/07/2007\",\"03/02/2010\",..: 23 5 22 7 1 13 26 17 29 28 ...\n",
      " $ bx_length : num  21 26 20 21 6 18 18 23 21 17 ...\n",
      " $ bx_fib    : num  1 0 2 0 0 2 2 3 0 0 ...\n",
      " $ te_date   : Factor w/ 30 levels \"02/02/2010\",\"04/04/2008\",..: 23 3 22 7 15 12 27 18 29 26 ...\n",
      " $ bx_te_days: int  0 1 0 0 46 0 0 0 0 1 ...\n",
      " $ probe     : Factor w/ 1 level \"M\": 1 1 1 1 1 1 1 1 1 1 ...\n",
      " $ lsm       : num  4.4 6 7.9 4.9 3.7 6.6 6.2 13.3 6.4 4.3 ...\n",
      " $ iqr       : num  0.2 0.4 2.1 0.7 0.5 1.9 1.3 3.1 1.4 0.9 ...\n",
      " $ iqr_median: num  0.05 0.07 0.27 0.14 0.14 0.29 0.21 0.23 0.22 0.21 ...\n"
     ]
    }
   ],
   "source": [
    "completeNafldData <- nafldData[, colSums(is.na(nafldData))==0]\n",
    "str(completeNafldData)"
   ]
  },
  {
   "cell_type": "markdown",
   "metadata": {},
   "source": [
    "Now let's write this data frame into a different CSV file so we can use it later or pass it on to others to analyse it. Creating CSV files is just as easy as reading them. R provides the ```write.csv()``` function for this purpose:\n",
    "```write.csv(dataFrameName, fileName)```\n",
    "* dataFrameName - the data frame we want to save into a CSV file;\n",
    "* fileName - a character string with the name of the CSV file, including the extension."
   ]
  },
  {
   "cell_type": "code",
   "execution_count": 21,
   "metadata": {},
   "outputs": [],
   "source": [
    "write.csv(completeNafldData, \"complete_nafld_dataset.csv\")"
   ]
  },
  {
   "cell_type": "markdown",
   "metadata": {},
   "source": [
    "### B. Manipulating data frames\n",
    "Lots of different measurements are made during scientific experiments, which are then summarised in data tables that can be stored as CSV or XLSX files. In the previous section we saw how to load these data tables into R. In many statistical analyses we don't need the entire table or we want to operate only on a specific subset of a table.  \n",
    "In this section we will explore possibilities of selecting a subgroup of observations from a table and we will use this knowledge in Part 3 to plot data and perform statistical analyses.  \n",
    "\n",
    "Let's first load a new data set from ```nafld_dataset2.csv``` and examine the structure of this table."
   ]
  },
  {
   "cell_type": "code",
   "execution_count": 28,
   "metadata": {},
   "outputs": [
    {
     "name": "stdout",
     "output_type": "stream",
     "text": [
      "'data.frame':\t77 obs. of  30 variables:\n",
      " $ studyId    : Factor w/ 1 level \"Boursier\": 1 1 1 1 1 1 1 1 1 1 ...\n",
      " $ country    : Factor w/ 1 level \"France\": 1 1 1 1 1 1 1 1 1 1 ...\n",
      " $ continent  : Factor w/ 1 level \"Europe\": 1 1 1 1 1 1 1 1 1 1 ...\n",
      " $ centre     : Factor w/ 4 levels \"Angers\",\"Bordeaux\",..: 2 2 2 1 2 1 2 1 1 1 ...\n",
      " $ gender     : Factor w/ 2 levels \"F\",\"M\": 2 1 1 2 1 2 2 2 1 1 ...\n",
      " $ age        : int  58 50 42 72 60 37 48 47 69 71 ...\n",
      " $ height     : num  1.77 1.6 1.69 1.66 1.71 1.82 1.76 1.62 1.51 1.55 ...\n",
      " $ weight     : num  126 103 115 111 118 ...\n",
      " $ bmi        : num  40.2 40.2 40.3 40.3 40.3 40.5 40.7 40.8 40.8 40.8 ...\n",
      " $ waist_circ : int  134 123 115 122 124 132 125 124 126 130 ...\n",
      " $ dm2        : Factor w/ 2 levels \"N\",\"Y\": 2 2 1 1 2 1 1 2 2 2 ...\n",
      " $ plt        : int  175 266 285 186 239 278 253 334 242 173 ...\n",
      " $ alt        : int  49 22 45 13 27 27 85 105 28 26 ...\n",
      " $ ast        : int  26 22 28 19 19 28 47 35 30 24 ...\n",
      " $ ggt        : int  66 88 31 38 55 68 56 161 59 75 ...\n",
      " $ hdl_chol   : num  0.6 1.1 1.2 0.8 1 0.6 0.8 0.9 1.1 1.1 ...\n",
      " $ tg         : num  0.8 5.5 1.5 3 1.2 1.4 2.6 1.3 1.5 2.1 ...\n",
      " $ fglu       : num  17 7.6 4.6 6.2 5.5 6 5.9 8.8 9.2 9.1 ...\n",
      " $ bx_date    : Factor w/ 71 levels \"01/02/2013\",\"03/04/2009\",..: 2 32 69 3 33 67 21 34 39 6 ...\n",
      " $ bx_length  : int  2 15 30 33 28 17 45 13 26 40 ...\n",
      " $ bx_fib     : int  4 1 1 3 2 2 2 0 3 3 ...\n",
      " $ bx_nas     : int  4 5 NA 2 6 5 4 2 5 4 ...\n",
      " $ te_date    : Factor w/ 62 levels \"\",\"03/08/2017\",..: 38 27 51 2 29 60 13 24 18 59 ...\n",
      " $ bx_te_days : int  73 0 64 0 0 0 0 63 5 6 ...\n",
      " $ probe      : Factor w/ 2 levels \"M\",\"XL\": 1 2 2 2 2 2 1 1 2 2 ...\n",
      " $ valid_shots: int  10 10 10 10 10 10 10 3 10 10 ...\n",
      " $ lsm        : num  10.4 8.4 4.5 12.8 4.5 6.5 10.9 15.7 14.5 14.5 ...\n",
      " $ iqr        : num  2.7 0.7 0.6 2.1 0.9 1.1 1.6 5.6 1.6 3.9 ...\n",
      " $ iqr_median : num  0.26 0.08 0.13 0.16 0.2 0.17 0.15 0.36 0.11 0.27 ...\n",
      " $ success    : int  100 100 100 83 100 91 NA 15 100 63 ...\n"
     ]
    }
   ],
   "source": [
    "nafldDataset2 <- read.csv(\"nafld_dataset2.csv\")\n",
    "str(nafldDataset2)"
   ]
  },
  {
   "cell_type": "markdown",
   "metadata": {},
   "source": [
    "You can already notice that there are fewer missing values in this data set than in the previous one. This is in itself a subset of a much larger data set describing patients that had blood serum tests, liver biopsies and liver stiffness measurements - having non-alcoholic fatty liver disease as their underlying condition.  \n",
    "Now consider the following subgroups:\n",
    "1. Patients with morbid obesity (BMI > 40 kg/m^2)\n",
    "2. Patients with biopsy samples longer (bx_length) than 20 mm\n",
    "3. Patients with abnormal aminotransferase levels (alanine-aminotransferase (ALT) > 40 or aspartate-aminotransferase (AST) > 40)\n",
    "4. Patients with biopsy samples longer (bx_length) than 20 mm and fibrosis stage (bx_fib) < 3 \n",
    "5. Patients with unreliable liver stiffness measurements (median LSM >= 7.1 kPa (lsm) and IQR/median LSM > 0.30 (iqr_median))\n",
    "6. Patients with biopsy samples shorter than 20 mm and unreliable liver stiffness measurements.\n",
    "\n",
    "We will determine the number of patients in each of these subgroups."
   ]
  },
  {
   "cell_type": "code",
   "execution_count": 40,
   "metadata": {},
   "outputs": [
    {
     "name": "stdout",
     "output_type": "stream",
     "text": [
      "There are  74  patients.\n",
      "NULL\n",
      "      studyId country continent   centre gender age height weight  bmi\n",
      "1    Boursier  France    Europe Bordeaux      M  58   1.77  126.0 40.2\n",
      "2    Boursier  France    Europe Bordeaux      F  50   1.60  103.0 40.2\n",
      "3    Boursier  France    Europe Bordeaux      F  42   1.69  115.0 40.3\n",
      "4    Boursier  France    Europe   Angers      M  72   1.66  111.0 40.3\n",
      "5    Boursier  France    Europe Bordeaux      F  60   1.71  117.8 40.3\n",
      "6    Boursier  France    Europe   Angers      M  37   1.82  134.0 40.5\n",
      "7    Boursier  France    Europe Bordeaux      M  48   1.76  126.0 40.7\n",
      "8    Boursier  France    Europe   Angers      M  47   1.62  107.0 40.8\n",
      "9    Boursier  France    Europe   Angers      F  69   1.51   93.0 40.8\n",
      "10   Boursier  France    Europe   Angers      F  71   1.55   98.0 40.8\n",
      "11   Boursier  France    Europe Bordeaux      F  43   1.50   92.0 40.9\n",
      "12   Boursier  France    Europe Bordeaux      F  60   1.60  105.0 41.0\n",
      "13   Boursier  France    Europe   Angers      F  36   1.59  104.0 41.1\n",
      "14   Boursier  France    Europe Toulouse      F  69   1.59  104.0 41.1\n",
      "15   Boursier  France    Europe   Angers      M  33   1.75  126.0 41.1\n",
      "16   Boursier  France    Europe   Angers      F  70   1.57  102.0 41.4\n",
      "17   Boursier  France    Europe Bordeaux      F  50   1.63  110.0 41.4\n",
      "18   Boursier  France    Europe Toulouse      F  55   1.65  113.0 41.5\n",
      "19   Boursier  France    Europe Bordeaux      F  56   1.58  104.0 41.7\n",
      "21   Boursier  France    Europe   Angers      M  56   1.80  135.0 41.7\n",
      "22   Boursier  France    Europe   Angers      M  63   1.71  122.0 41.7\n",
      "23   Boursier  France    Europe   Angers      F  67   1.56  102.0 41.9\n",
      "25   Boursier  France    Europe Toulouse      M  58   1.72  125.0 42.3\n",
      "26   Boursier  France    Europe   Angers      M  66   1.74  128.0 42.3\n",
      "27   Boursier  France    Europe Bordeaux      F  48   1.56  103.0 42.3\n",
      "28   Boursier  France    Europe Bordeaux      F  51   1.56  103.0 42.3\n",
      "29   Boursier  France    Europe Bordeaux      F  61   1.59  107.0 42.3\n",
      "30   Boursier  France    Europe   Angers      F  37   1.66  117.0 42.5\n",
      "31   Boursier  France    Europe   Angers      M  27   1.77  134.0 42.8\n",
      "32   Boursier  France    Europe   Angers      M  70   1.66  118.0 42.8\n",
      "33   Boursier  France    Europe Bordeaux      M  57   1.80  139.0 42.9\n",
      "34   Boursier  France    Europe Toulouse      F  54   1.56  105.0 43.1\n",
      "35   Boursier  France    Europe Bordeaux      F  54   1.61  112.0 43.2\n",
      "36   Boursier  France    Europe Bordeaux      F  54   1.61  112.0 43.2\n",
      "37   Boursier  France    Europe Bordeaux      F  59   1.68  122.0 43.2\n",
      "38   Boursier  France    Europe Bordeaux      M  57   1.79  139.0 43.4\n",
      "39   Boursier  France    Europe   Angers      M  64   1.67  121.0 43.4\n",
      "40   Boursier  France    Europe Bordeaux      F  52   1.62  114.0 43.4\n",
      "41   Boursier  France    Europe Toulouse      F  41   1.62  115.0 43.8\n",
      "42   Boursier  France    Europe   Angers      M  58   1.83  147.0 43.9\n",
      "43   Boursier  France    Europe Toulouse      M  71   1.72  130.0 43.9\n",
      "44   Boursier  France    Europe   Angers      M  57   1.80  143.0 44.1\n",
      "45   Boursier  France    Europe Bordeaux      F  58   1.49   98.0 44.1\n",
      "46   Boursier  France    Europe Bordeaux      F  51   1.52  102.0 44.1\n",
      "47   Boursier  France    Europe   Angers      F  70   1.62  116.0 44.2\n",
      "48   Boursier  France    Europe   Angers      F  66   1.54  105.0 44.3\n",
      "49   Boursier  France    Europe   Angers      M  37   1.70  128.0 44.3\n",
      "50   Boursier  France    Europe Toulouse      F  45   1.59  113.0 44.7\n",
      "51   Boursier  France    Europe   Angers      F  54   1.64  121.0 45.0\n",
      "52   Boursier  France    Europe Bordeaux      F  44   1.57  111.0 45.0\n",
      "53   Boursier  France    Europe Toulouse      F  64   1.50  101.9 45.3\n",
      "54   Boursier  France    Europe Bordeaux      M  61   1.78  144.0 45.4\n",
      "55   Boursier  France    Europe   Angers      M  29   1.62  120.0 45.7\n",
      "56   Boursier  France    Europe Grenoble      M  63   1.65  125.0 45.9\n",
      "57   Boursier  France    Europe   Angers      F  56   1.53  108.0 46.1\n",
      "58   Boursier  France    Europe   Angers      M  52   1.74  141.0 46.6\n",
      "60   Boursier  France    Europe   Angers      F  62   1.41   93.0 46.8\n",
      "61   Boursier  France    Europe   Angers      M  49   1.76  145.0 46.8\n",
      "62   Boursier  France    Europe   Angers      M  26   1.72  140.0 47.3\n",
      "63   Boursier  France    Europe Bordeaux      F  44   1.55  117.0 48.7\n",
      "64   Boursier  France    Europe   Angers      F  56   1.65  133.0 48.9\n",
      "65   Boursier  France    Europe   Angers      F  52   1.64  133.0 49.4\n",
      "66   Boursier  France    Europe Bordeaux      M  43   1.70  143.0 49.5\n",
      "67   Boursier  France    Europe Toulouse      F  56   1.65  135.0 49.6\n",
      "68   Boursier  France    Europe Grenoble      F  19   1.59  126.0 49.8\n",
      "69   Boursier  France    Europe   Angers      F  48   1.49  112.0 50.4\n",
      "70   Boursier  France    Europe   Angers      F  48   1.59  130.0 51.4\n",
      "71   Boursier  France    Europe Bordeaux      F  54   1.61  136.5 52.7\n",
      "72   Boursier  France    Europe   Angers      F  53   1.63  140.0 52.7\n",
      "73   Boursier  France    Europe   Angers      M  67   1.70  157.0 54.3\n",
      "74   Boursier  France    Europe   Angers      F  52   1.73  166.0 55.5\n",
      "NA       <NA>    <NA>      <NA>     <NA>   <NA>  NA     NA     NA   NA\n",
      "NA.1     <NA>    <NA>      <NA>     <NA>   <NA>  NA     NA     NA   NA\n",
      "NA.2     <NA>    <NA>      <NA>     <NA>   <NA>  NA     NA     NA   NA\n",
      "     waist_circ  dm2 plt alt ast ggt hdl_chol  tg fglu    bx_date bx_length\n",
      "1           134    Y 175  49  26  66      0.6 0.8 17.0 03/04/2009         2\n",
      "2           123    Y 266  22  22  88      1.1 5.5  7.6 15/01/2015        15\n",
      "3           115    N 285  45  28  31      1.2 1.5  4.6 30/11/2012        30\n",
      "4           122    N 186  13  19  38      0.8 3.0  6.2 03/08/2017        33\n",
      "5           124    Y 239  27  19  55      1.0 1.2  5.5 15/05/2012        28\n",
      "6           132    N 278  27  28  68      0.6 1.4  6.0 29/10/2015        17\n",
      "7           125    N 253  85  47  56      0.8 2.6  5.9 09/11/2007        45\n",
      "8           124    Y 334 105  35 161      0.9 1.3  8.8 15/10/2009        13\n",
      "9           126    Y 242  28  30  59      1.1 1.5  9.2 16/05/2017        26\n",
      "10          130    Y 173  26  24  75      1.1 2.1  9.1 05/07/2017        40\n",
      "11          110    Y 408 118  77  42      1.4 1.8  4.7 19/11/2008        NA\n",
      "12          118    Y 209  32  31  40      1.2 2.1  4.2 18/04/2014        15\n",
      "13          131    N 204  39  32  37      1.0 1.2  4.8 08/10/2015        34\n",
      "14          126    Y 448  23  19 776       NA  NA   NA 16/05/2014        NA\n",
      "15          134    Y 310  62  27  27      0.8 2.7  5.6 07/03/2013        35\n",
      "16          144    Y 165  41  36  53      1.1 2.4 10.8 26/05/2016        16\n",
      "17          115    N 194  49  34  60      1.1 1.7  6.8 15/10/2013        26\n",
      "18          133    Y 260  29  38  43      1.1 3.0  7.8 21/03/2016        12\n",
      "19          124    Y 132  26  30  45      1.4 1.2  5.1 28/09/2011         8\n",
      "21          140    N 209 117  46  61      0.9 3.0  6.9 15/12/2016        32\n",
      "22          130    Y 201  50  66 111      0.8 1.3  6.4 18/06/2013        22\n",
      "23          114    N 147  17  25 141      1.8 1.2  6.8 06/03/2008        22\n",
      "25          135    N 194  77  41  77      1.0 1.5  5.8 25/11/2015        17\n",
      "26          130    Y 192  23  29  47      0.8 1.4  6.0 09/02/2017        10\n",
      "27          123    N 481  36  25  83      1.6 2.1  3.6 16/02/2015        22\n",
      "28          123    N 289  88  42 528      1.3 1.1  4.2 05/01/2012        11\n",
      "29          122    Y 223  49  33  27      1.4 1.1  6.7 22/03/2010        24\n",
      "30          133    N 212  20  16  24      1.3 1.4  5.4 08/07/2013        17\n",
      "31          125    Y 244 179  73  88      1.0 2.0  4.9 09/07/2015        23\n",
      "32          128    N 172  35  39  57      0.8 2.1  6.2 07/05/2015        33\n",
      "33          137    Y 254  21  22  38      1.1 0.9  9.2 17/04/2012        27\n",
      "34          121    N 271  78  43  39      1.3 1.2  4.7 30/11/2015        20\n",
      "35          117    N 183  21  22  23      1.4 1.0  5.3 01/02/2013        30\n",
      "36          117    N 183  21  22  23      1.4 1.0  5.3 13/03/2013        30\n",
      "37          132    Y 130  31  NA  57      1.5 1.3  3.2 15/05/2012        19\n",
      "38          137    Y 254  21  22  38      1.1 0.9  9.2 17/04/2012        27\n",
      "39          141    N 171  41  37  44      0.9 1.2  6.0 29/10/2015        25\n",
      "40          120    N 302  28  27  17      1.0 1.8  4.5 23/01/2017        53\n",
      "41          125    Y 257  56  35  49      1.3 1.3  8.7 21/07/2016        22\n",
      "42          148    Y 207  25  21  52      0.9 2.5  6.4 13/12/2012        30\n",
      "43           NA    N 206  47  37  NA      1.0 1.4   NA 17/09/2012        NA\n",
      "44          140    Y 157  36  39  47      0.8 1.5  5.1 30/03/2017        35\n",
      "45          117    N 130  14  20  76      1.7 0.7  4.8 22/03/2013        NA\n",
      "46           NA    Y 331  90  16  57      1.2 1.6  4.4 16/10/2006        16\n",
      "47          144    N 230  37  26  32      1.2 1.6  6.1 06/11/2015        17\n",
      "48          122    N 278  29  33  22      1.9 1.4  5.8 19/05/2016        30\n",
      "49          128    Y 237 210 175 131      0.9 2.1 13.2 10/09/2015        25\n",
      "50          121    N 460  40  27  65      1.0 3.8  5.8 17/11/2015        12\n",
      "51          150    Y 246  51  45  99      0.6 4.1 19.8 24/06/2015        60\n",
      "52          122    N 289  32  30  64      1.6 1.4  4.2 09/09/2014        31\n",
      "53          127    Y 259  47  61 185      1.1 1.8  5.7 31/10/2016        19\n",
      "54          140    N 173  34  29  54      1.0 2.0  5.4 28/08/2012        28\n",
      "55          139    Y 256 130  49  42      1.1 1.6  4.8 11/01/2018        36\n",
      "56          141    Y 347  51  33 131      0.5 1.8  7.6 12/10/2016        23\n",
      "57          136    Y 224  86  44  56      1.0 1.5  9.0 05/01/2012        42\n",
      "58          138    Y 230  47  43  30      1.2 1.6  6.3 25/01/2018        26\n",
      "60          124    N 305  58 122  37      1.2 1.6  4.3 20/05/2014        50\n",
      "61          154    Y 283  72  43  80      1.4 0.9 14.4 07/04/2016        24\n",
      "62          130    N 186  70  32  57      0.8 2.0  4.7 11/02/2016        35\n",
      "63          116    N 228  26  23  17      1.1 3.2  5.2 04/05/2012        20\n",
      "64          150    Y 137  20  32  89      1.0 2.2  7.0 06/12/2017        29\n",
      "65          145    Y 199  69  65 244      0.6 2.6  9.1 21/02/2013        19\n",
      "66          124    N 303  32  22  67      1.5 1.3  4.4 13/01/2010        30\n",
      "67          121    N 295  70  58  61      1.1 1.1   NA 08/09/2015        NA\n",
      "68          137    N 240 165 103  68      0.4 0.8  4.6 06/04/2016        26\n",
      "69          143    Y 256  92  91 141      0.9 2.0  9.8 12/11/2015        23\n",
      "70          141    N 368  23  25  88      0.9 1.1  5.7 28/01/2016        32\n",
      "71          125    Y 218  44  52  49      1.2 1.0  6.4 20/10/2015        NA\n",
      "72          141    Y 244  37  23 104      1.4 1.3  5.6 12/07/2012        30\n",
      "73          155    Y 198  29  23  61      1.0 1.6 14.6 11/01/2018        35\n",
      "74          174    Y 238  22  27  34      0.9 1.9 11.2 26/05/2016        30\n",
      "NA           NA <NA>  NA  NA  NA  NA       NA  NA   NA       <NA>        NA\n",
      "NA.1         NA <NA>  NA  NA  NA  NA       NA  NA   NA       <NA>        NA\n",
      "NA.2         NA <NA>  NA  NA  NA  NA       NA  NA   NA       <NA>        NA\n",
      "     bx_fib bx_nas    te_date bx_te_days probe valid_shots  lsm  iqr iqr_median\n",
      "1         4      4 20/01/2009         73     M          10 10.4  2.7       0.26\n",
      "2         1      5 15/01/2015          0    XL          10  8.4  0.7       0.08\n",
      "3         1     NA 27/09/2012         64    XL          10  4.5  0.6       0.13\n",
      "4         3      2 03/08/2017          0    XL          10 12.8  2.1       0.16\n",
      "5         2      6 15/05/2012          0    XL          10  4.5  0.9       0.20\n",
      "6         2      5 29/10/2015          0    XL          10  6.5  1.1       0.17\n",
      "7         2      4 09/11/2007          0     M          10 10.9  1.6       0.15\n",
      "8         0      2 13/08/2009         63     M           3 15.7  5.6       0.36\n",
      "9         3      5 11/05/2017          5    XL          10 14.5  1.6       0.11\n",
      "10        3      4 29/06/2017          6    XL          10 14.5  3.9       0.27\n",
      "11        0     NA 27/11/2008          8     M          11 11.6  2.9       0.25\n",
      "12        2      6 10/03/2014         39    XL          10  8.0  1.2       0.15\n",
      "13        2      4 08/10/2015          0    XL          10  9.0  2.1       0.23\n",
      "14        4     NA                    NA     M          NA 22.0   NA         NA\n",
      "15        2      3 07/03/2013          0     M          10  9.0  0.6       0.07\n",
      "16        4      4 26/05/2016          0    XL          10 21.8  0.5       0.02\n",
      "17        3      3 15/10/2013          0    XL          10  9.2  1.2       0.13\n",
      "18        3      4 29/01/2016         52     M          NA 45.0 14.2       0.32\n",
      "19        4     NA 24/04/2012        209    XL          10  8.2  1.2       0.15\n",
      "21        2      5 15/12/2016          0    XL          10 17.3  4.6       0.27\n",
      "22        4      5 18/06/2013          0    XL          10 19.5  4.7       0.24\n",
      "23        3      4 06/03/2008          0     M           3 20.9  3.3       0.16\n",
      "25        2      6 17/09/2015         69     M          NA  8.5  2.4       0.28\n",
      "26        3      3 09/02/2017          0    XL          10  8.4  1.2       0.14\n",
      "27        3      6 20/09/2011       1245    XL          10  4.5  0.8       0.18\n",
      "28        1      2 12/02/2013        404    XL          10  8.0  0.3       0.04\n",
      "29        2      6 22/03/2010          0    XL           6 10.4  2.9       0.28\n",
      "30        1      1 28/06/2013         10    XL          10  5.6  1.2       0.21\n",
      "31        3      4 09/07/2015          0    XL          10 21.3  0.0       0.00\n",
      "32        3      4 07/05/2015          0    XL          10 14.1  3.0       0.21\n",
      "33        0     NA 16/04/2012          1    XL          10  5.4  1.1       0.20\n",
      "34        2      3 22/10/2015         39     M          NA 17.5  7.2       0.41\n",
      "35        0      1 14/11/2012         79     M          13  4.2  0.5       0.12\n",
      "36        0     NA 14/11/2012        119     M          13  4.2  0.5       0.12\n",
      "37        0      1 15/05/2012          0    XL           2 26.8  9.5       0.35\n",
      "38        0     NA 16/04/2012          1    XL          10  5.4  1.1       0.20\n",
      "39        2      4 29/10/2015          0    XL          10 21.5 29.6       1.38\n",
      "40        2      5 24/10/2016         91    XL          10 10.2  1.1       0.11\n",
      "41        4      5 15/04/2016         97     M          NA 15.1  2.4       0.16\n",
      "42        2      3 13/12/2012          0     M          10  6.8  0.8       0.12\n",
      "43        3     NA                    NA     M          NA 24.0   NA         NA\n",
      "44        3      3 30/03/2017          0    XL          10 21.3  4.7       0.22\n",
      "45        0      2 17/01/2013         64     M          10  6.2  1.3       0.21\n",
      "46        2      4 16/10/2006          0     M           9  6.3  1.8       0.29\n",
      "47        1      3 30/10/2015          7    XL          10  7.9  0.6       0.08\n",
      "48        1      5 19/05/2016          0    XL          10  6.9  1.0       0.14\n",
      "49        3      7 10/09/2015          0    XL          10 21.3  0.7       0.03\n",
      "50        2      5 26/03/2015        236     M          NA  8.5  1.7       0.20\n",
      "51        3      6 11/06/2015         13    XL          10 25.2  8.8       0.35\n",
      "52        3      6 09/09/2014          0    XL          10  9.1  1.4       0.15\n",
      "53        3      6                    NA    XL          NA 13.0  5.4       0.42\n",
      "54        1      4 28/08/2012          0    XL          10  6.4  0.8       0.13\n",
      "55        3      4 11/01/2018          0    XL          10 12.2  2.6       0.21\n",
      "56        4      6                    NA    XL          NA 51.4 24.0       0.47\n",
      "57        1      5 06/01/2012          1     M          10 14.3  2.3       0.16\n",
      "58        2      5 25/01/2018          0    XL          10 34.3  4.4       0.13\n",
      "60        1      3 06/05/2014         14    XL          10  6.4  0.9       0.14\n",
      "61        1      5 07/04/2016          0    XL          10 12.3  3.1       0.25\n",
      "62        2      4 11/02/2016          0    XL          10 10.9  2.0       0.18\n",
      "63        0     NA 13/06/2012         40    XL          10  5.8  0.6       0.10\n",
      "64        4      5 23/11/2017         13    XL          10 10.4  1.4       0.13\n",
      "65        4      6 21/02/2013          0     M           5 46.4  2.9       0.06\n",
      "66        1      4 28/10/2009         77    XL          10 12.1  0.3       0.02\n",
      "67        3      5                    NA     M          NA 19.7   NA         NA\n",
      "68        1      7                    NA    XL          NA  8.4  1.3       0.15\n",
      "69        2      6 12/11/2015          0    XL          10  9.6  1.5       0.16\n",
      "70        2      5 28/01/2016          0    XL          10  9.9  0.8       0.08\n",
      "71        2      5 20/10/2015          0    XL          10 17.5  4.7       0.27\n",
      "72        4      5 12/07/2012          0     M          10 65.2 17.9       0.27\n",
      "73        2      4 11/01/2018          0    XL          10 12.7  3.1       0.24\n",
      "74        2      5 26/05/2016          0    XL          10 14.6  3.0       0.21\n",
      "NA       NA     NA       <NA>         NA  <NA>          NA   NA   NA         NA\n",
      "NA.1     NA     NA       <NA>         NA  <NA>          NA   NA   NA         NA\n",
      "NA.2     NA     NA       <NA>         NA  <NA>          NA   NA   NA         NA\n",
      "     success\n",
      "1        100\n",
      "2        100\n",
      "3        100\n",
      "4         83\n",
      "5        100\n",
      "6         91\n",
      "7         NA\n",
      "8         15\n",
      "9        100\n",
      "10        63\n",
      "11        69\n",
      "12       100\n",
      "13        71\n",
      "14        NA\n",
      "15        83\n",
      "16        29\n",
      "17        91\n",
      "18        68\n",
      "19       100\n",
      "21       100\n",
      "22       100\n",
      "23        15\n",
      "25        50\n",
      "26        77\n",
      "27       100\n",
      "28       100\n",
      "29        38\n",
      "30        53\n",
      "31       100\n",
      "32       100\n",
      "33        56\n",
      "34        67\n",
      "35        68\n",
      "36        NA\n",
      "37        11\n",
      "38        56\n",
      "39        43\n",
      "40        NA\n",
      "41        50\n",
      "42       100\n",
      "43        NA\n",
      "44       100\n",
      "45        91\n",
      "46        41\n",
      "47       100\n",
      "48        50\n",
      "49       100\n",
      "50        86\n",
      "51        50\n",
      "52       100\n",
      "53        89\n",
      "54        91\n",
      "55       100\n",
      "56        NA\n",
      "57        38\n",
      "58        67\n",
      "60        56\n",
      "61        42\n",
      "62       100\n",
      "63       100\n",
      "64        91\n",
      "65        25\n",
      "66        91\n",
      "67        NA\n",
      "68        NA\n",
      "69       100\n",
      "70       100\n",
      "71       100\n",
      "72        42\n",
      "73        71\n",
      "74       100\n",
      "NA        NA\n",
      "NA.1      NA\n",
      "NA.2      NA\n"
     ]
    }
   ],
   "source": [
    "# Patients with morbid obesity\n",
    "morbidlyObese <- nafldDataset2[nafldDataset2$bmi > 40,]\n",
    "# Now count the number of patients\n",
    "print(cat(c(\"There are \", as.character(nrow(morbidlyObese)), \" patients.\\n\")))\n",
    "# Finally, let's have a look at the results\n",
    "print(morbidlyObese)\n"
   ]
  },
  {
   "cell_type": "markdown",
   "metadata": {},
   "source": [
    "We notice that there are some rows with NAs in them. We'd like to remove these as we're only interested in patients who are morbidly obese."
   ]
  },
  {
   "cell_type": "code",
   "execution_count": 42,
   "metadata": {},
   "outputs": [
    {
     "name": "stdout",
     "output_type": "stream",
     "text": [
      "There are  71  patients.\n",
      "NULL\n",
      "    studyId country continent   centre gender age height weight  bmi waist_circ\n",
      "1  Boursier  France    Europe Bordeaux      M  58   1.77  126.0 40.2        134\n",
      "2  Boursier  France    Europe Bordeaux      F  50   1.60  103.0 40.2        123\n",
      "3  Boursier  France    Europe Bordeaux      F  42   1.69  115.0 40.3        115\n",
      "4  Boursier  France    Europe   Angers      M  72   1.66  111.0 40.3        122\n",
      "5  Boursier  France    Europe Bordeaux      F  60   1.71  117.8 40.3        124\n",
      "6  Boursier  France    Europe   Angers      M  37   1.82  134.0 40.5        132\n",
      "7  Boursier  France    Europe Bordeaux      M  48   1.76  126.0 40.7        125\n",
      "8  Boursier  France    Europe   Angers      M  47   1.62  107.0 40.8        124\n",
      "9  Boursier  France    Europe   Angers      F  69   1.51   93.0 40.8        126\n",
      "10 Boursier  France    Europe   Angers      F  71   1.55   98.0 40.8        130\n",
      "11 Boursier  France    Europe Bordeaux      F  43   1.50   92.0 40.9        110\n",
      "12 Boursier  France    Europe Bordeaux      F  60   1.60  105.0 41.0        118\n",
      "13 Boursier  France    Europe   Angers      F  36   1.59  104.0 41.1        131\n",
      "14 Boursier  France    Europe Toulouse      F  69   1.59  104.0 41.1        126\n",
      "15 Boursier  France    Europe   Angers      M  33   1.75  126.0 41.1        134\n",
      "16 Boursier  France    Europe   Angers      F  70   1.57  102.0 41.4        144\n",
      "17 Boursier  France    Europe Bordeaux      F  50   1.63  110.0 41.4        115\n",
      "18 Boursier  France    Europe Toulouse      F  55   1.65  113.0 41.5        133\n",
      "19 Boursier  France    Europe Bordeaux      F  56   1.58  104.0 41.7        124\n",
      "21 Boursier  France    Europe   Angers      M  56   1.80  135.0 41.7        140\n",
      "22 Boursier  France    Europe   Angers      M  63   1.71  122.0 41.7        130\n",
      "23 Boursier  France    Europe   Angers      F  67   1.56  102.0 41.9        114\n",
      "25 Boursier  France    Europe Toulouse      M  58   1.72  125.0 42.3        135\n",
      "26 Boursier  France    Europe   Angers      M  66   1.74  128.0 42.3        130\n",
      "27 Boursier  France    Europe Bordeaux      F  48   1.56  103.0 42.3        123\n",
      "28 Boursier  France    Europe Bordeaux      F  51   1.56  103.0 42.3        123\n",
      "29 Boursier  France    Europe Bordeaux      F  61   1.59  107.0 42.3        122\n",
      "30 Boursier  France    Europe   Angers      F  37   1.66  117.0 42.5        133\n",
      "31 Boursier  France    Europe   Angers      M  27   1.77  134.0 42.8        125\n",
      "32 Boursier  France    Europe   Angers      M  70   1.66  118.0 42.8        128\n",
      "33 Boursier  France    Europe Bordeaux      M  57   1.80  139.0 42.9        137\n",
      "34 Boursier  France    Europe Toulouse      F  54   1.56  105.0 43.1        121\n",
      "35 Boursier  France    Europe Bordeaux      F  54   1.61  112.0 43.2        117\n",
      "36 Boursier  France    Europe Bordeaux      F  54   1.61  112.0 43.2        117\n",
      "37 Boursier  France    Europe Bordeaux      F  59   1.68  122.0 43.2        132\n",
      "38 Boursier  France    Europe Bordeaux      M  57   1.79  139.0 43.4        137\n",
      "39 Boursier  France    Europe   Angers      M  64   1.67  121.0 43.4        141\n",
      "40 Boursier  France    Europe Bordeaux      F  52   1.62  114.0 43.4        120\n",
      "41 Boursier  France    Europe Toulouse      F  41   1.62  115.0 43.8        125\n",
      "42 Boursier  France    Europe   Angers      M  58   1.83  147.0 43.9        148\n",
      "43 Boursier  France    Europe Toulouse      M  71   1.72  130.0 43.9         NA\n",
      "44 Boursier  France    Europe   Angers      M  57   1.80  143.0 44.1        140\n",
      "45 Boursier  France    Europe Bordeaux      F  58   1.49   98.0 44.1        117\n",
      "46 Boursier  France    Europe Bordeaux      F  51   1.52  102.0 44.1         NA\n",
      "47 Boursier  France    Europe   Angers      F  70   1.62  116.0 44.2        144\n",
      "48 Boursier  France    Europe   Angers      F  66   1.54  105.0 44.3        122\n",
      "49 Boursier  France    Europe   Angers      M  37   1.70  128.0 44.3        128\n",
      "50 Boursier  France    Europe Toulouse      F  45   1.59  113.0 44.7        121\n",
      "51 Boursier  France    Europe   Angers      F  54   1.64  121.0 45.0        150\n",
      "52 Boursier  France    Europe Bordeaux      F  44   1.57  111.0 45.0        122\n",
      "53 Boursier  France    Europe Toulouse      F  64   1.50  101.9 45.3        127\n",
      "54 Boursier  France    Europe Bordeaux      M  61   1.78  144.0 45.4        140\n",
      "55 Boursier  France    Europe   Angers      M  29   1.62  120.0 45.7        139\n",
      "56 Boursier  France    Europe Grenoble      M  63   1.65  125.0 45.9        141\n",
      "57 Boursier  France    Europe   Angers      F  56   1.53  108.0 46.1        136\n",
      "58 Boursier  France    Europe   Angers      M  52   1.74  141.0 46.6        138\n",
      "60 Boursier  France    Europe   Angers      F  62   1.41   93.0 46.8        124\n",
      "61 Boursier  France    Europe   Angers      M  49   1.76  145.0 46.8        154\n",
      "62 Boursier  France    Europe   Angers      M  26   1.72  140.0 47.3        130\n",
      "63 Boursier  France    Europe Bordeaux      F  44   1.55  117.0 48.7        116\n",
      "64 Boursier  France    Europe   Angers      F  56   1.65  133.0 48.9        150\n",
      "65 Boursier  France    Europe   Angers      F  52   1.64  133.0 49.4        145\n",
      "66 Boursier  France    Europe Bordeaux      M  43   1.70  143.0 49.5        124\n",
      "67 Boursier  France    Europe Toulouse      F  56   1.65  135.0 49.6        121\n",
      "68 Boursier  France    Europe Grenoble      F  19   1.59  126.0 49.8        137\n",
      "69 Boursier  France    Europe   Angers      F  48   1.49  112.0 50.4        143\n",
      "70 Boursier  France    Europe   Angers      F  48   1.59  130.0 51.4        141\n",
      "71 Boursier  France    Europe Bordeaux      F  54   1.61  136.5 52.7        125\n",
      "72 Boursier  France    Europe   Angers      F  53   1.63  140.0 52.7        141\n",
      "73 Boursier  France    Europe   Angers      M  67   1.70  157.0 54.3        155\n",
      "74 Boursier  France    Europe   Angers      F  52   1.73  166.0 55.5        174\n",
      "   dm2 plt alt ast ggt hdl_chol  tg fglu    bx_date bx_length bx_fib bx_nas\n",
      "1    Y 175  49  26  66      0.6 0.8 17.0 03/04/2009         2      4      4\n",
      "2    Y 266  22  22  88      1.1 5.5  7.6 15/01/2015        15      1      5\n",
      "3    N 285  45  28  31      1.2 1.5  4.6 30/11/2012        30      1     NA\n",
      "4    N 186  13  19  38      0.8 3.0  6.2 03/08/2017        33      3      2\n",
      "5    Y 239  27  19  55      1.0 1.2  5.5 15/05/2012        28      2      6\n",
      "6    N 278  27  28  68      0.6 1.4  6.0 29/10/2015        17      2      5\n",
      "7    N 253  85  47  56      0.8 2.6  5.9 09/11/2007        45      2      4\n",
      "8    Y 334 105  35 161      0.9 1.3  8.8 15/10/2009        13      0      2\n",
      "9    Y 242  28  30  59      1.1 1.5  9.2 16/05/2017        26      3      5\n",
      "10   Y 173  26  24  75      1.1 2.1  9.1 05/07/2017        40      3      4\n",
      "11   Y 408 118  77  42      1.4 1.8  4.7 19/11/2008        NA      0     NA\n",
      "12   Y 209  32  31  40      1.2 2.1  4.2 18/04/2014        15      2      6\n",
      "13   N 204  39  32  37      1.0 1.2  4.8 08/10/2015        34      2      4\n",
      "14   Y 448  23  19 776       NA  NA   NA 16/05/2014        NA      4     NA\n",
      "15   Y 310  62  27  27      0.8 2.7  5.6 07/03/2013        35      2      3\n",
      "16   Y 165  41  36  53      1.1 2.4 10.8 26/05/2016        16      4      4\n",
      "17   N 194  49  34  60      1.1 1.7  6.8 15/10/2013        26      3      3\n",
      "18   Y 260  29  38  43      1.1 3.0  7.8 21/03/2016        12      3      4\n",
      "19   Y 132  26  30  45      1.4 1.2  5.1 28/09/2011         8      4     NA\n",
      "21   N 209 117  46  61      0.9 3.0  6.9 15/12/2016        32      2      5\n",
      "22   Y 201  50  66 111      0.8 1.3  6.4 18/06/2013        22      4      5\n",
      "23   N 147  17  25 141      1.8 1.2  6.8 06/03/2008        22      3      4\n",
      "25   N 194  77  41  77      1.0 1.5  5.8 25/11/2015        17      2      6\n",
      "26   Y 192  23  29  47      0.8 1.4  6.0 09/02/2017        10      3      3\n",
      "27   N 481  36  25  83      1.6 2.1  3.6 16/02/2015        22      3      6\n",
      "28   N 289  88  42 528      1.3 1.1  4.2 05/01/2012        11      1      2\n",
      "29   Y 223  49  33  27      1.4 1.1  6.7 22/03/2010        24      2      6\n",
      "30   N 212  20  16  24      1.3 1.4  5.4 08/07/2013        17      1      1\n",
      "31   Y 244 179  73  88      1.0 2.0  4.9 09/07/2015        23      3      4\n",
      "32   N 172  35  39  57      0.8 2.1  6.2 07/05/2015        33      3      4\n",
      "33   Y 254  21  22  38      1.1 0.9  9.2 17/04/2012        27      0     NA\n",
      "34   N 271  78  43  39      1.3 1.2  4.7 30/11/2015        20      2      3\n",
      "35   N 183  21  22  23      1.4 1.0  5.3 01/02/2013        30      0      1\n",
      "36   N 183  21  22  23      1.4 1.0  5.3 13/03/2013        30      0     NA\n",
      "37   Y 130  31  NA  57      1.5 1.3  3.2 15/05/2012        19      0      1\n",
      "38   Y 254  21  22  38      1.1 0.9  9.2 17/04/2012        27      0     NA\n",
      "39   N 171  41  37  44      0.9 1.2  6.0 29/10/2015        25      2      4\n",
      "40   N 302  28  27  17      1.0 1.8  4.5 23/01/2017        53      2      5\n",
      "41   Y 257  56  35  49      1.3 1.3  8.7 21/07/2016        22      4      5\n",
      "42   Y 207  25  21  52      0.9 2.5  6.4 13/12/2012        30      2      3\n",
      "43   N 206  47  37  NA      1.0 1.4   NA 17/09/2012        NA      3     NA\n",
      "44   Y 157  36  39  47      0.8 1.5  5.1 30/03/2017        35      3      3\n",
      "45   N 130  14  20  76      1.7 0.7  4.8 22/03/2013        NA      0      2\n",
      "46   Y 331  90  16  57      1.2 1.6  4.4 16/10/2006        16      2      4\n",
      "47   N 230  37  26  32      1.2 1.6  6.1 06/11/2015        17      1      3\n",
      "48   N 278  29  33  22      1.9 1.4  5.8 19/05/2016        30      1      5\n",
      "49   Y 237 210 175 131      0.9 2.1 13.2 10/09/2015        25      3      7\n",
      "50   N 460  40  27  65      1.0 3.8  5.8 17/11/2015        12      2      5\n",
      "51   Y 246  51  45  99      0.6 4.1 19.8 24/06/2015        60      3      6\n",
      "52   N 289  32  30  64      1.6 1.4  4.2 09/09/2014        31      3      6\n",
      "53   Y 259  47  61 185      1.1 1.8  5.7 31/10/2016        19      3      6\n",
      "54   N 173  34  29  54      1.0 2.0  5.4 28/08/2012        28      1      4\n",
      "55   Y 256 130  49  42      1.1 1.6  4.8 11/01/2018        36      3      4\n",
      "56   Y 347  51  33 131      0.5 1.8  7.6 12/10/2016        23      4      6\n",
      "57   Y 224  86  44  56      1.0 1.5  9.0 05/01/2012        42      1      5\n",
      "58   Y 230  47  43  30      1.2 1.6  6.3 25/01/2018        26      2      5\n",
      "60   N 305  58 122  37      1.2 1.6  4.3 20/05/2014        50      1      3\n",
      "61   Y 283  72  43  80      1.4 0.9 14.4 07/04/2016        24      1      5\n",
      "62   N 186  70  32  57      0.8 2.0  4.7 11/02/2016        35      2      4\n",
      "63   N 228  26  23  17      1.1 3.2  5.2 04/05/2012        20      0     NA\n",
      "64   Y 137  20  32  89      1.0 2.2  7.0 06/12/2017        29      4      5\n",
      "65   Y 199  69  65 244      0.6 2.6  9.1 21/02/2013        19      4      6\n",
      "66   N 303  32  22  67      1.5 1.3  4.4 13/01/2010        30      1      4\n",
      "67   N 295  70  58  61      1.1 1.1   NA 08/09/2015        NA      3      5\n",
      "68   N 240 165 103  68      0.4 0.8  4.6 06/04/2016        26      1      7\n",
      "69   Y 256  92  91 141      0.9 2.0  9.8 12/11/2015        23      2      6\n",
      "70   N 368  23  25  88      0.9 1.1  5.7 28/01/2016        32      2      5\n",
      "71   Y 218  44  52  49      1.2 1.0  6.4 20/10/2015        NA      2      5\n",
      "72   Y 244  37  23 104      1.4 1.3  5.6 12/07/2012        30      4      5\n",
      "73   Y 198  29  23  61      1.0 1.6 14.6 11/01/2018        35      2      4\n",
      "74   Y 238  22  27  34      0.9 1.9 11.2 26/05/2016        30      2      5\n",
      "      te_date bx_te_days probe valid_shots  lsm  iqr iqr_median success\n",
      "1  20/01/2009         73     M          10 10.4  2.7       0.26     100\n",
      "2  15/01/2015          0    XL          10  8.4  0.7       0.08     100\n",
      "3  27/09/2012         64    XL          10  4.5  0.6       0.13     100\n",
      "4  03/08/2017          0    XL          10 12.8  2.1       0.16      83\n",
      "5  15/05/2012          0    XL          10  4.5  0.9       0.20     100\n",
      "6  29/10/2015          0    XL          10  6.5  1.1       0.17      91\n",
      "7  09/11/2007          0     M          10 10.9  1.6       0.15      NA\n",
      "8  13/08/2009         63     M           3 15.7  5.6       0.36      15\n",
      "9  11/05/2017          5    XL          10 14.5  1.6       0.11     100\n",
      "10 29/06/2017          6    XL          10 14.5  3.9       0.27      63\n",
      "11 27/11/2008          8     M          11 11.6  2.9       0.25      69\n",
      "12 10/03/2014         39    XL          10  8.0  1.2       0.15     100\n",
      "13 08/10/2015          0    XL          10  9.0  2.1       0.23      71\n",
      "14                    NA     M          NA 22.0   NA         NA      NA\n",
      "15 07/03/2013          0     M          10  9.0  0.6       0.07      83\n",
      "16 26/05/2016          0    XL          10 21.8  0.5       0.02      29\n",
      "17 15/10/2013          0    XL          10  9.2  1.2       0.13      91\n",
      "18 29/01/2016         52     M          NA 45.0 14.2       0.32      68\n",
      "19 24/04/2012        209    XL          10  8.2  1.2       0.15     100\n",
      "21 15/12/2016          0    XL          10 17.3  4.6       0.27     100\n",
      "22 18/06/2013          0    XL          10 19.5  4.7       0.24     100\n",
      "23 06/03/2008          0     M           3 20.9  3.3       0.16      15\n",
      "25 17/09/2015         69     M          NA  8.5  2.4       0.28      50\n",
      "26 09/02/2017          0    XL          10  8.4  1.2       0.14      77\n",
      "27 20/09/2011       1245    XL          10  4.5  0.8       0.18     100\n",
      "28 12/02/2013        404    XL          10  8.0  0.3       0.04     100\n",
      "29 22/03/2010          0    XL           6 10.4  2.9       0.28      38\n",
      "30 28/06/2013         10    XL          10  5.6  1.2       0.21      53\n",
      "31 09/07/2015          0    XL          10 21.3  0.0       0.00     100\n",
      "32 07/05/2015          0    XL          10 14.1  3.0       0.21     100\n",
      "33 16/04/2012          1    XL          10  5.4  1.1       0.20      56\n",
      "34 22/10/2015         39     M          NA 17.5  7.2       0.41      67\n",
      "35 14/11/2012         79     M          13  4.2  0.5       0.12      68\n",
      "36 14/11/2012        119     M          13  4.2  0.5       0.12      NA\n",
      "37 15/05/2012          0    XL           2 26.8  9.5       0.35      11\n",
      "38 16/04/2012          1    XL          10  5.4  1.1       0.20      56\n",
      "39 29/10/2015          0    XL          10 21.5 29.6       1.38      43\n",
      "40 24/10/2016         91    XL          10 10.2  1.1       0.11      NA\n",
      "41 15/04/2016         97     M          NA 15.1  2.4       0.16      50\n",
      "42 13/12/2012          0     M          10  6.8  0.8       0.12     100\n",
      "43                    NA     M          NA 24.0   NA         NA      NA\n",
      "44 30/03/2017          0    XL          10 21.3  4.7       0.22     100\n",
      "45 17/01/2013         64     M          10  6.2  1.3       0.21      91\n",
      "46 16/10/2006          0     M           9  6.3  1.8       0.29      41\n",
      "47 30/10/2015          7    XL          10  7.9  0.6       0.08     100\n",
      "48 19/05/2016          0    XL          10  6.9  1.0       0.14      50\n",
      "49 10/09/2015          0    XL          10 21.3  0.7       0.03     100\n",
      "50 26/03/2015        236     M          NA  8.5  1.7       0.20      86\n",
      "51 11/06/2015         13    XL          10 25.2  8.8       0.35      50\n",
      "52 09/09/2014          0    XL          10  9.1  1.4       0.15     100\n",
      "53                    NA    XL          NA 13.0  5.4       0.42      89\n",
      "54 28/08/2012          0    XL          10  6.4  0.8       0.13      91\n",
      "55 11/01/2018          0    XL          10 12.2  2.6       0.21     100\n",
      "56                    NA    XL          NA 51.4 24.0       0.47      NA\n",
      "57 06/01/2012          1     M          10 14.3  2.3       0.16      38\n",
      "58 25/01/2018          0    XL          10 34.3  4.4       0.13      67\n",
      "60 06/05/2014         14    XL          10  6.4  0.9       0.14      56\n",
      "61 07/04/2016          0    XL          10 12.3  3.1       0.25      42\n",
      "62 11/02/2016          0    XL          10 10.9  2.0       0.18     100\n",
      "63 13/06/2012         40    XL          10  5.8  0.6       0.10     100\n",
      "64 23/11/2017         13    XL          10 10.4  1.4       0.13      91\n",
      "65 21/02/2013          0     M           5 46.4  2.9       0.06      25\n",
      "66 28/10/2009         77    XL          10 12.1  0.3       0.02      91\n",
      "67                    NA     M          NA 19.7   NA         NA      NA\n",
      "68                    NA    XL          NA  8.4  1.3       0.15      NA\n",
      "69 12/11/2015          0    XL          10  9.6  1.5       0.16     100\n",
      "70 28/01/2016          0    XL          10  9.9  0.8       0.08     100\n",
      "71 20/10/2015          0    XL          10 17.5  4.7       0.27     100\n",
      "72 12/07/2012          0     M          10 65.2 17.9       0.27      42\n",
      "73 11/01/2018          0    XL          10 12.7  3.1       0.24      71\n",
      "74 26/05/2016          0    XL          10 14.6  3.0       0.21     100\n"
     ]
    }
   ],
   "source": [
    "# Select patients with BMI > 40 kg/m^2 AND patients whose BMI isn't a NA value.\n",
    "morbidlyObese <- nafldDataset2[nafldDataset2$bmi > 40 & !is.na(nafldDataset2$bmi),]\n",
    "print(cat(c(\"There are \", as.character(nrow(morbidlyObese)), \" patients.\\n\")))\n",
    "print(morbidlyObese)"
   ]
  },
  {
   "cell_type": "markdown",
   "metadata": {},
   "source": [
    "__Q__: Counting elements in a column based on a constraint should be as complicated as you saw in the previous two examples. It can be done in one line, using functions covered in section 3B. Use the box below to come up with a simple way of getting the number of morbidly obese patients in the data set."
   ]
  },
  {
   "cell_type": "code",
   "execution_count": null,
   "metadata": {},
   "outputs": [],
   "source": []
  },
  {
   "cell_type": "markdown",
   "metadata": {},
   "source": [
    "Let's now count how many patients have abnormal aminotransferase levels (alanine-aminotransferase (ALT) > 40 or aspartate-aminotransferase (AST) > 40)."
   ]
  },
  {
   "cell_type": "code",
   "execution_count": 56,
   "metadata": {
    "scrolled": true
   },
   "outputs": [
    {
     "name": "stdout",
     "output_type": "stream",
     "text": [
      "There are  37  patients.\n",
      "NULL\n",
      "'data.frame':\t37 obs. of  30 variables:\n",
      " $ studyId    : Factor w/ 1 level \"Boursier\": 1 1 1 1 1 1 1 1 1 1 ...\n",
      " $ country    : Factor w/ 1 level \"France\": 1 1 1 1 1 1 1 1 1 1 ...\n",
      " $ continent  : Factor w/ 1 level \"Europe\": 1 1 1 1 1 1 1 1 1 1 ...\n",
      " $ centre     : Factor w/ 4 levels \"Angers\",\"Bordeaux\",..: 2 2 2 1 2 1 1 2 2 1 ...\n",
      " $ gender     : Factor w/ 2 levels \"F\",\"M\": 2 1 2 2 1 2 1 1 2 2 ...\n",
      " $ age        : int  58 42 48 47 43 33 70 50 44 56 ...\n",
      " $ height     : num  1.77 1.69 1.76 1.62 1.5 1.75 1.57 1.63 1.82 1.8 ...\n",
      " $ weight     : num  126 115 126 107 92 126 102 110 100 135 ...\n",
      " $ bmi        : num  40.2 40.3 40.7 40.8 40.9 41.1 41.4 41.4 30.2 41.7 ...\n",
      " $ waist_circ : int  134 115 125 124 110 134 144 115 126 140 ...\n",
      " $ dm2        : Factor w/ 2 levels \"N\",\"Y\": 2 1 1 2 2 2 2 1 2 1 ...\n",
      " $ plt        : int  175 285 253 334 408 310 165 194 208 209 ...\n",
      " $ alt        : int  49 45 85 105 118 62 41 49 92 117 ...\n",
      " $ ast        : int  26 28 47 35 77 27 36 34 45 46 ...\n",
      " $ ggt        : int  66 31 56 161 42 27 53 60 97 61 ...\n",
      " $ hdl_chol   : num  0.6 1.2 0.8 0.9 1.4 0.8 1.1 1.1 1.1 0.9 ...\n",
      " $ tg         : num  0.8 1.5 2.6 1.3 1.8 2.7 2.4 1.7 2 3 ...\n",
      " $ fglu       : num  17 4.6 5.9 8.8 4.7 5.6 10.8 6.8 7.8 6.9 ...\n",
      " $ bx_date    : Factor w/ 71 levels \"01/02/2013\",\"03/04/2009\",..: 2 69 21 34 47 12 61 35 65 36 ...\n",
      " $ bx_length  : int  2 30 45 13 NA 35 16 26 24 32 ...\n",
      " $ bx_fib     : int  4 1 2 0 0 2 4 3 2 2 ...\n",
      " $ bx_nas     : int  4 NA 4 2 NA 3 4 3 6 5 ...\n",
      " $ te_date    : Factor w/ 62 levels \"\",\"03/08/2017\",..: 38 51 13 24 52 6 50 30 58 31 ...\n",
      " $ bx_te_days : int  73 64 0 63 8 0 0 0 0 0 ...\n",
      " $ probe      : Factor w/ 2 levels \"M\",\"XL\": 1 2 1 1 1 1 2 2 1 2 ...\n",
      " $ valid_shots: int  10 10 10 3 11 10 10 10 10 10 ...\n",
      " $ lsm        : num  10.4 4.5 10.9 15.7 11.6 9 21.8 9.2 8.5 17.3 ...\n",
      " $ iqr        : num  2.7 0.6 1.6 5.6 2.9 0.6 0.5 1.2 1.2 4.6 ...\n",
      " $ iqr_median : num  0.26 0.13 0.15 0.36 0.25 0.07 0.02 0.13 0.14 0.27 ...\n",
      " $ success    : int  100 100 NA 15 69 83 29 91 71 100 ...\n"
     ]
    }
   ],
   "source": [
    "# Select patients with abnormal ALT or AST\n",
    "abnormalAminotransferase <- nafldDataset2[(nafldDataset2$alt > 40 | nafldDataset2$ast > 40) &\n",
    "                                          !is.na(nafldDataset2$alt) & !is.na(nafldDataset2$ast),]\n",
    "# Count the patients\n",
    "print(cat(c(\"There are \", as.character(nrow(abnormalAminotransferase)), \" patients.\\n\")))\n",
    "# Inspect the data\n",
    "str(abnormalAminotransferase)"
   ]
  },
  {
   "cell_type": "markdown",
   "metadata": {},
   "source": [
    "__Q__: Determine the number of patients in each of the other subgroups (2 and 4-6)."
   ]
  },
  {
   "cell_type": "code",
   "execution_count": null,
   "metadata": {},
   "outputs": [],
   "source": []
  }
 ],
 "metadata": {
  "kernelspec": {
   "display_name": "R",
   "language": "R",
   "name": "ir"
  },
  "language_info": {
   "codemirror_mode": "r",
   "file_extension": ".r",
   "mimetype": "text/x-r-source",
   "name": "R",
   "pygments_lexer": "r",
   "version": "3.6.3"
  }
 },
 "nbformat": 4,
 "nbformat_minor": 4
}
