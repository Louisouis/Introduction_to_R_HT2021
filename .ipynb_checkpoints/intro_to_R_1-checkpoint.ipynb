{
 "cells": [
  {
   "cell_type": "markdown",
   "metadata": {},
   "source": [
    "This first part in the Introduction to R series will introduce you to using the R interpreter (which works very similarly to this Jupyter notebook), data types, and parts of the R syntax.\n",
    "\n",
    "## Vectors, arithmetic operations and functions\n",
    "Arithmetic operators work just as you learnt to use them on a calculator, including precedence of operators and brackets. Some examples are below."
   ]
  },
  {
   "cell_type": "code",
   "execution_count": 15,
   "metadata": {},
   "outputs": [
    {
     "data": {
      "text/html": [
       "52"
      ],
      "text/latex": [
       "52"
      ],
      "text/markdown": [
       "52"
      ],
      "text/plain": [
       "[1] 52"
      ]
     },
     "metadata": {},
     "output_type": "display_data"
    }
   ],
   "source": [
    "100 / 2 - 2 ^ 3 + 5 * 2"
   ]
  },
  {
   "cell_type": "code",
   "execution_count": 16,
   "metadata": {},
   "outputs": [
    {
     "data": {
      "text/html": [
       "-6.66666666666667"
      ],
      "text/latex": [
       "-6.66666666666667"
      ],
      "text/markdown": [
       "-6.66666666666667"
      ],
      "text/plain": [
       "[1] -6.666667"
      ]
     },
     "metadata": {},
     "output_type": "display_data"
    }
   ],
   "source": [
    "100 / (2 - 2 ^ 3) + 5 * 2"
   ]
  },
  {
   "cell_type": "markdown",
   "metadata": {},
   "source": [
    "If you want to perform the same operations on more than one number, vectors are there to help. In R, a vector will always contain more than one element of the same type (typically numeric values, but there are character, complex, logical and integer vectors too). Vectors can be built \"manually\" using the concatenation function c() or they can be read from files.\n",
    "To store the elements of a vector in a variable (called x below), just assign the vector's elements to x with the <- assignment operator."
   ]
  },
  {
   "cell_type": "code",
   "execution_count": 2,
   "metadata": {},
   "outputs": [],
   "source": [
    "x <- c(1, 1, 2, 3, 5, 8, 13)"
   ]
  },
  {
   "cell_type": "code",
   "execution_count": 3,
   "metadata": {},
   "outputs": [
    {
     "name": "stdout",
     "output_type": "stream",
     "text": [
      "[1]  1  1  2  3  5  8 13\n"
     ]
    }
   ],
   "source": [
    "print(x)"
   ]
  },
  {
   "cell_type": "code",
   "execution_count": 21,
   "metadata": {},
   "outputs": [
    {
     "data": {
      "text/html": [
       "<ol class=list-inline>\n",
       "\t<li>1</li>\n",
       "\t<li>1</li>\n",
       "\t<li>3</li>\n",
       "\t<li>5</li>\n",
       "\t<li>9</li>\n",
       "\t<li>15</li>\n",
       "\t<li>25</li>\n",
       "</ol>\n"
      ],
      "text/latex": [
       "\\begin{enumerate*}\n",
       "\\item 1\n",
       "\\item 1\n",
       "\\item 3\n",
       "\\item 5\n",
       "\\item 9\n",
       "\\item 15\n",
       "\\item 25\n",
       "\\end{enumerate*}\n"
      ],
      "text/markdown": [
       "1. 1\n",
       "2. 1\n",
       "3. 3\n",
       "4. 5\n",
       "5. 9\n",
       "6. 15\n",
       "7. 25\n",
       "\n",
       "\n"
      ],
      "text/plain": [
       "[1]  1  1  3  5  9 15 25"
      ]
     },
     "metadata": {},
     "output_type": "display_data"
    }
   ],
   "source": [
    "x * 2 - 1"
   ]
  },
  {
   "cell_type": "markdown",
   "metadata": {},
   "source": [
    "Operations can be carried out between vectors too:"
   ]
  },
  {
   "cell_type": "code",
   "execution_count": 12,
   "metadata": {},
   "outputs": [],
   "source": [
    "y <- c(3, 1, 4, 1, 5, 9, 2)"
   ]
  },
  {
   "cell_type": "code",
   "execution_count": 25,
   "metadata": {},
   "outputs": [
    {
     "data": {
      "text/html": [
       "<ol class=list-inline>\n",
       "\t<li>4</li>\n",
       "\t<li>2</li>\n",
       "\t<li>6</li>\n",
       "\t<li>4</li>\n",
       "\t<li>10</li>\n",
       "\t<li>17</li>\n",
       "\t<li>15</li>\n",
       "</ol>\n"
      ],
      "text/latex": [
       "\\begin{enumerate*}\n",
       "\\item 4\n",
       "\\item 2\n",
       "\\item 6\n",
       "\\item 4\n",
       "\\item 10\n",
       "\\item 17\n",
       "\\item 15\n",
       "\\end{enumerate*}\n"
      ],
      "text/markdown": [
       "1. 4\n",
       "2. 2\n",
       "3. 6\n",
       "4. 4\n",
       "5. 10\n",
       "6. 17\n",
       "7. 15\n",
       "\n",
       "\n"
      ],
      "text/plain": [
       "[1]  4  2  6  4 10 17 15"
      ]
     },
     "metadata": {},
     "output_type": "display_data"
    }
   ],
   "source": [
    "x + y"
   ]
  },
  {
   "cell_type": "markdown",
   "metadata": {},
   "source": [
    "There are other ways of defining a vector. Numerical sequences can be generated using the seq() function. These can come in handy when timepoints have to be defined to examine a physical process over some period.  \n",
    "seq() takes at least two numbers as arguments: the lower and upper bounds of an interval. The R interpreter will then generate a sequence of numbers between the two limits using a step size of 1. If a third number is provided, this will be considered as a step size."
   ]
  },
  {
   "cell_type": "code",
   "execution_count": 8,
   "metadata": {},
   "outputs": [
    {
     "name": "stdout",
     "output_type": "stream",
     "text": [
      "[1] 0 1\n"
     ]
    }
   ],
   "source": [
    "t <- seq(0, 01)\n",
    "print(t)"
   ]
  },
  {
   "cell_type": "code",
   "execution_count": 10,
   "metadata": {},
   "outputs": [
    {
     "name": "stdout",
     "output_type": "stream",
     "text": [
      " [1] 0.0 0.1 0.2 0.3 0.4 0.5 0.6 0.7 0.8 0.9 1.0\n"
     ]
    }
   ],
   "source": [
    "t <- seq(0, 1, 0.1)\n",
    "print(t)"
   ]
  },
  {
   "cell_type": "markdown",
   "metadata": {},
   "source": [
    "As mentioned before, vectors can contain logical values too (i.e. TRUE or FALSE). These values can represent states (e.g. a patient having type 2 diabetes) or can be a result of evaluating a logical expression, as shown below. We want to find the negative values in the difference between vectors x and y (defined earlier)."
   ]
  },
  {
   "cell_type": "code",
   "execution_count": 14,
   "metadata": {},
   "outputs": [
    {
     "name": "stdout",
     "output_type": "stream",
     "text": [
      "[1] -2  0 -2  2  0 -1 11\n",
      "[1]  TRUE FALSE  TRUE FALSE FALSE  TRUE FALSE\n"
     ]
    }
   ],
   "source": [
    "print(x - y)\n",
    "negatives <- (x - y) < 0\n",
    "print(negatives)"
   ]
  },
  {
   "cell_type": "markdown",
   "metadata": {},
   "source": [
    "There is a special data type in R, called NaN (not a number) and another one called NA (not available). These two don't refer to a specific value, but rather represent an undefined value (e.g. 0/0 would evaluate to NaN) or a missing value (in the case of NA)."
   ]
  },
  {
   "cell_type": "code",
   "execution_count": 15,
   "metadata": {},
   "outputs": [
    {
     "name": "stdout",
     "output_type": "stream",
     "text": [
      "[1]   1   2   3 NaN\n"
     ]
    }
   ],
   "source": [
    "x <- c(1, 2, 3, 0/0)\n",
    "print(x)"
   ]
  },
  {
   "cell_type": "markdown",
   "metadata": {},
   "source": [
    "The R interpreter always does what it is being told to do, therefore if we want to perform operations on a vector that contains NaN or NA values, those operations will likely return NaN or NA as a result. R needs to be told to skip NaN or NA values from operations. The example below shows that the average of the numbers defined in vector x cannot be determined if we also consider the NaN element. Once we remove that, we get the average of 1, 2, and 3."
   ]
  },
  {
   "cell_type": "code",
   "execution_count": 16,
   "metadata": {},
   "outputs": [
    {
     "data": {
      "text/html": [
       "NaN"
      ],
      "text/latex": [
       "NaN"
      ],
      "text/markdown": [
       "NaN"
      ],
      "text/plain": [
       "[1] NaN"
      ]
     },
     "metadata": {},
     "output_type": "display_data"
    }
   ],
   "source": [
    "mean(x)"
   ]
  },
  {
   "cell_type": "code",
   "execution_count": 17,
   "metadata": {},
   "outputs": [
    {
     "data": {
      "text/html": [
       "2"
      ],
      "text/latex": [
       "2"
      ],
      "text/markdown": [
       "2"
      ],
      "text/plain": [
       "[1] 2"
      ]
     },
     "metadata": {},
     "output_type": "display_data"
    }
   ],
   "source": [
    "mean(x, na.rm=TRUE)"
   ]
  },
  {
   "cell_type": "markdown",
   "metadata": {},
   "source": [
    "It is sometimes necessary to refer to a __specific element__ or a __portion__ of a vector as part of a subset calculation. This can be done by indexing. R allows indexing of vectors using square brackets ([]) that take one number of a logical expression as an input. For instance, the following line will return the second element of vector x:"
   ]
  },
  {
   "cell_type": "code",
   "execution_count": 18,
   "metadata": {},
   "outputs": [
    {
     "data": {
      "text/html": [
       "2"
      ],
      "text/latex": [
       "2"
      ],
      "text/markdown": [
       "2"
      ],
      "text/plain": [
       "[1] 2"
      ]
     },
     "metadata": {},
     "output_type": "display_data"
    }
   ],
   "source": [
    "x[2]"
   ]
  },
  {
   "cell_type": "markdown",
   "metadata": {},
   "source": [
    "While this line will return all elements between element 2 and element 3 (so just elements 2 and 3 in this case)."
   ]
  },
  {
   "cell_type": "code",
   "execution_count": 19,
   "metadata": {},
   "outputs": [
    {
     "data": {
      "text/html": [
       "<ol class=list-inline>\n",
       "\t<li>2</li>\n",
       "\t<li>3</li>\n",
       "</ol>\n"
      ],
      "text/latex": [
       "\\begin{enumerate*}\n",
       "\\item 2\n",
       "\\item 3\n",
       "\\end{enumerate*}\n"
      ],
      "text/markdown": [
       "1. 2\n",
       "2. 3\n",
       "\n",
       "\n"
      ],
      "text/plain": [
       "[1] 2 3"
      ]
     },
     "metadata": {},
     "output_type": "display_data"
    }
   ],
   "source": [
    "x[2:3]"
   ]
  },
  {
   "cell_type": "markdown",
   "metadata": {},
   "source": [
    "Indexing can also be used to __exclude__ elements from a vector by prefixing the index term with a minus sign."
   ]
  },
  {
   "cell_type": "code",
   "execution_count": 20,
   "metadata": {},
   "outputs": [
    {
     "data": {
      "text/html": [
       "<ol class=list-inline>\n",
       "\t<li>1</li>\n",
       "\t<li>3</li>\n",
       "\t<li>NaN</li>\n",
       "</ol>\n"
      ],
      "text/latex": [
       "\\begin{enumerate*}\n",
       "\\item 1\n",
       "\\item 3\n",
       "\\item NaN\n",
       "\\end{enumerate*}\n"
      ],
      "text/markdown": [
       "1. 1\n",
       "2. 3\n",
       "3. NaN\n",
       "\n",
       "\n"
      ],
      "text/plain": [
       "[1]   1   3 NaN"
      ]
     },
     "metadata": {},
     "output_type": "display_data"
    }
   ],
   "source": [
    "x[-2]"
   ]
  },
  {
   "cell_type": "markdown",
   "metadata": {},
   "source": [
    "A more complicated way to refer to vector elements is by constructing logical expression. Let's say we want to have only the numeric elements that are greater than 1. It may be tempting to try this:"
   ]
  },
  {
   "cell_type": "code",
   "execution_count": 21,
   "metadata": {},
   "outputs": [
    {
     "data": {
      "text/html": [
       "<ol class=list-inline>\n",
       "\t<li>2</li>\n",
       "\t<li>3</li>\n",
       "\t<li>&lt;NA&gt;</li>\n",
       "</ol>\n"
      ],
      "text/latex": [
       "\\begin{enumerate*}\n",
       "\\item 2\n",
       "\\item 3\n",
       "\\item <NA>\n",
       "\\end{enumerate*}\n"
      ],
      "text/markdown": [
       "1. 2\n",
       "2. 3\n",
       "3. &lt;NA&gt;\n",
       "\n",
       "\n"
      ],
      "text/plain": [
       "[1]  2  3 NA"
      ]
     },
     "metadata": {},
     "output_type": "display_data"
    }
   ],
   "source": [
    "x[x > 1]"
   ]
  },
  {
   "cell_type": "markdown",
   "metadata": {},
   "source": [
    "... but it will return the NA element too, which we didn't want. So we'd have to \"filter\" that one out, by combining the greater than condition with a function that only returns indices of non-NA elements. Since we want to have the two conditions to be true simultaneously, we use the & operator which corresponds to logical __and__. Logical __or__ can be achieved with | and logical __negation__ is represented by !"
   ]
  },
  {
   "cell_type": "code",
   "execution_count": 22,
   "metadata": {},
   "outputs": [
    {
     "data": {
      "text/html": [
       "<ol class=list-inline>\n",
       "\t<li>2</li>\n",
       "\t<li>3</li>\n",
       "</ol>\n"
      ],
      "text/latex": [
       "\\begin{enumerate*}\n",
       "\\item 2\n",
       "\\item 3\n",
       "\\end{enumerate*}\n"
      ],
      "text/markdown": [
       "1. 2\n",
       "2. 3\n",
       "\n",
       "\n"
      ],
      "text/plain": [
       "[1] 2 3"
      ]
     },
     "metadata": {},
     "output_type": "display_data"
    }
   ],
   "source": [
    "x[!is.na(x) & x > 1]"
   ]
  },
  {
   "cell_type": "code",
   "execution_count": 43,
   "metadata": {},
   "outputs": [
    {
     "data": {
      "text/html": [
       "<ol class=list-inline>\n",
       "\t<li>1</li>\n",
       "\t<li>3</li>\n",
       "</ol>\n"
      ],
      "text/latex": [
       "\\begin{enumerate*}\n",
       "\\item 1\n",
       "\\item 3\n",
       "\\end{enumerate*}\n"
      ],
      "text/markdown": [
       "1. 1\n",
       "2. 3\n",
       "\n",
       "\n"
      ],
      "text/plain": [
       "[1] 1 3"
      ]
     },
     "metadata": {},
     "output_type": "display_data"
    }
   ],
   "source": [
    "x[!is.na(x) & (x == 1 | x == 3)]"
   ]
  },
  {
   "cell_type": "markdown",
   "metadata": {},
   "source": [
    "In addition to arithmetic and logical operations, several mathematical functions are available in R: min, max, log, exp, sin, cos, tan all work in the usual way."
   ]
  },
  {
   "cell_type": "code",
   "execution_count": 23,
   "metadata": {},
   "outputs": [
    {
     "name": "stdout",
     "output_type": "stream",
     "text": [
      "[1] 3 1 4 1 5 9 2\n"
     ]
    },
    {
     "data": {
      "text/html": [
       "9"
      ],
      "text/latex": [
       "9"
      ],
      "text/markdown": [
       "9"
      ],
      "text/plain": [
       "[1] 9"
      ]
     },
     "metadata": {},
     "output_type": "display_data"
    }
   ],
   "source": [
    "print(y)\n",
    "max(y)"
   ]
  },
  {
   "cell_type": "markdown",
   "metadata": {},
   "source": [
    "There are two special functions that can tell more about a vector. length() provides the number of elements in a vector, while range() returns the minimum and maximum values of a vector - corresponding to ```c(min(y), max(y))```."
   ]
  },
  {
   "cell_type": "code",
   "execution_count": 24,
   "metadata": {},
   "outputs": [
    {
     "data": {
      "text/html": [
       "7"
      ],
      "text/latex": [
       "7"
      ],
      "text/markdown": [
       "7"
      ],
      "text/plain": [
       "[1] 7"
      ]
     },
     "metadata": {},
     "output_type": "display_data"
    },
    {
     "data": {
      "text/html": [
       "<ol class=list-inline>\n",
       "\t<li>1</li>\n",
       "\t<li>9</li>\n",
       "</ol>\n"
      ],
      "text/latex": [
       "\\begin{enumerate*}\n",
       "\\item 1\n",
       "\\item 9\n",
       "\\end{enumerate*}\n"
      ],
      "text/markdown": [
       "1. 1\n",
       "2. 9\n",
       "\n",
       "\n"
      ],
      "text/plain": [
       "[1] 1 9"
      ]
     },
     "metadata": {},
     "output_type": "display_data"
    }
   ],
   "source": [
    "length(y)\n",
    "range(y)"
   ]
  },
  {
   "cell_type": "markdown",
   "metadata": {},
   "source": [
    "### Factors - categorical variable"
   ]
  },
  {
   "cell_type": "code",
   "execution_count": 58,
   "metadata": {},
   "outputs": [],
   "source": [
    "steatosisGrade <- c(\"S0\", \"S0\", \"S2\", \"S1\", \"S2\", \"S0\", \"S1\", \"S3\", \"S1\", \"S2\", \"S3\")"
   ]
  },
  {
   "cell_type": "code",
   "execution_count": 59,
   "metadata": {},
   "outputs": [
    {
     "data": {
      "text/html": [
       "11"
      ],
      "text/latex": [
       "11"
      ],
      "text/markdown": [
       "11"
      ],
      "text/plain": [
       "[1] 11"
      ]
     },
     "metadata": {},
     "output_type": "display_data"
    }
   ],
   "source": [
    "length(steatosisGrade)"
   ]
  },
  {
   "cell_type": "code",
   "execution_count": 60,
   "metadata": {},
   "outputs": [],
   "source": [
    "steatosisGradeF <- factor(steatosisGrade)"
   ]
  },
  {
   "cell_type": "code",
   "execution_count": 61,
   "metadata": {},
   "outputs": [
    {
     "data": {
      "text/html": [
       "<ol class=list-inline>\n",
       "\t<li>'S0'</li>\n",
       "\t<li>'S1'</li>\n",
       "\t<li>'S2'</li>\n",
       "\t<li>'S3'</li>\n",
       "</ol>\n"
      ],
      "text/latex": [
       "\\begin{enumerate*}\n",
       "\\item 'S0'\n",
       "\\item 'S1'\n",
       "\\item 'S2'\n",
       "\\item 'S3'\n",
       "\\end{enumerate*}\n"
      ],
      "text/markdown": [
       "1. 'S0'\n",
       "2. 'S1'\n",
       "3. 'S2'\n",
       "4. 'S3'\n",
       "\n",
       "\n"
      ],
      "text/plain": [
       "[1] \"S0\" \"S1\" \"S2\" \"S3\""
      ]
     },
     "metadata": {},
     "output_type": "display_data"
    }
   ],
   "source": [
    "levels(steatosisGradeF)"
   ]
  },
  {
   "cell_type": "code",
   "execution_count": 62,
   "metadata": {},
   "outputs": [],
   "source": [
    "fatFraction <- c(2.3, 3.0, 45.3, 12.5, 35.6, 0.6, 7.8, 73.7, 13.3, 40.5, 89.0)"
   ]
  },
  {
   "cell_type": "code",
   "execution_count": 64,
   "metadata": {},
   "outputs": [
    {
     "data": {
      "text/html": [
       "<dl class=dl-horizontal>\n",
       "\t<dt>S0</dt>\n",
       "\t\t<dd>1.96666666666667</dd>\n",
       "\t<dt>S1</dt>\n",
       "\t\t<dd>11.2</dd>\n",
       "\t<dt>S2</dt>\n",
       "\t\t<dd>40.4666666666667</dd>\n",
       "\t<dt>S3</dt>\n",
       "\t\t<dd>81.35</dd>\n",
       "</dl>\n"
      ],
      "text/latex": [
       "\\begin{description*}\n",
       "\\item[S0] 1.96666666666667\n",
       "\\item[S1] 11.2\n",
       "\\item[S2] 40.4666666666667\n",
       "\\item[S3] 81.35\n",
       "\\end{description*}\n"
      ],
      "text/markdown": [
       "S0\n",
       ":   1.96666666666667S1\n",
       ":   11.2S2\n",
       ":   40.4666666666667S3\n",
       ":   81.35\n",
       "\n"
      ],
      "text/plain": [
       "       S0        S1        S2        S3 \n",
       " 1.966667 11.200000 40.466667 81.350000 "
      ]
     },
     "metadata": {},
     "output_type": "display_data"
    }
   ],
   "source": [
    "tapply(fatFraction, steatosisGradeF, mean)"
   ]
  },
  {
   "cell_type": "code",
   "execution_count": 66,
   "metadata": {},
   "outputs": [
    {
     "data": {
      "text/html": [
       "11"
      ],
      "text/latex": [
       "11"
      ],
      "text/markdown": [
       "11"
      ],
      "text/plain": [
       "[1] 11"
      ]
     },
     "metadata": {},
     "output_type": "display_data"
    }
   ],
   "source": []
  }
 ],
 "metadata": {
  "kernelspec": {
   "display_name": "R",
   "language": "R",
   "name": "ir"
  },
  "language_info": {
   "codemirror_mode": "r",
   "file_extension": ".r",
   "mimetype": "text/x-r-source",
   "name": "R",
   "pygments_lexer": "r",
   "version": "3.6.1"
  }
 },
 "nbformat": 4,
 "nbformat_minor": 4
}
