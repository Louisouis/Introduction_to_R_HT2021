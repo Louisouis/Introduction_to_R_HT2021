{
 "cells": [
  {
   "cell_type": "markdown",
   "metadata": {},
   "source": [
    "# Introduction to R - Part 1\n",
    "\n",
    "This first part in the Introduction to R series will introduce you to using the R interpreter (which works very similarly to this Jupyter notebook), data types, and parts of the R syntax. Variables and function calls will be covered in this part.\n",
    "\n",
    "## Vectors, arithmetic operations and functions\n",
    "Arithmetic operators work just as you learnt to use them on a calculator, including precedence of operators and brackets. Some examples are below."
   ]
  },
  {
   "cell_type": "code",
   "execution_count": 15,
   "metadata": {},
   "outputs": [
    {
     "data": {
      "text/html": [
       "52"
      ],
      "text/latex": [
       "52"
      ],
      "text/markdown": [
       "52"
      ],
      "text/plain": [
       "[1] 52"
      ]
     },
     "metadata": {},
     "output_type": "display_data"
    }
   ],
   "source": [
    "100 / 2 - 2 ^ 3 + 5 * 2"
   ]
  },
  {
   "cell_type": "code",
   "execution_count": 16,
   "metadata": {},
   "outputs": [
    {
     "data": {
      "text/html": [
       "-6.66666666666667"
      ],
      "text/latex": [
       "-6.66666666666667"
      ],
      "text/markdown": [
       "-6.66666666666667"
      ],
      "text/plain": [
       "[1] -6.666667"
      ]
     },
     "metadata": {},
     "output_type": "display_data"
    }
   ],
   "source": [
    "100 / (2 - 2 ^ 3) + 5 * 2"
   ]
  },
  {
   "cell_type": "markdown",
   "metadata": {},
   "source": [
    "If you want to perform the same operations on more than one number, vectors are there to help. In R, a vector will always contain more than one element of the same type (typically numeric values, but there are character, complex, logical and integer vectors too). Vectors can be built \"manually\" using the concatenation function ```c()``` or they can be read from files.\n",
    "To store the elements of a vector in a variable (called x below), just assign the vector's elements to x with the <- assignment operator.  \n",
    "```print()``` is a function that when called, prints the contents of the variable passed as an argument on the display."
   ]
  },
  {
   "cell_type": "code",
   "execution_count": 30,
   "metadata": {},
   "outputs": [
    {
     "name": "stdout",
     "output_type": "stream",
     "text": [
      "[1]  1  1  2  3  5  8 13\n"
     ]
    }
   ],
   "source": [
    "x <- c(1, 1, 2, 3, 5, 8, 13)\n",
    "print(x)"
   ]
  },
  {
   "cell_type": "code",
   "execution_count": 31,
   "metadata": {},
   "outputs": [
    {
     "data": {
      "text/html": [
       "<ol class=list-inline>\n",
       "\t<li>1</li>\n",
       "\t<li>1</li>\n",
       "\t<li>3</li>\n",
       "\t<li>5</li>\n",
       "\t<li>9</li>\n",
       "\t<li>15</li>\n",
       "\t<li>25</li>\n",
       "</ol>\n"
      ],
      "text/latex": [
       "\\begin{enumerate*}\n",
       "\\item 1\n",
       "\\item 1\n",
       "\\item 3\n",
       "\\item 5\n",
       "\\item 9\n",
       "\\item 15\n",
       "\\item 25\n",
       "\\end{enumerate*}\n"
      ],
      "text/markdown": [
       "1. 1\n",
       "2. 1\n",
       "3. 3\n",
       "4. 5\n",
       "5. 9\n",
       "6. 15\n",
       "7. 25\n",
       "\n",
       "\n"
      ],
      "text/plain": [
       "[1]  1  1  3  5  9 15 25"
      ]
     },
     "metadata": {},
     "output_type": "display_data"
    }
   ],
   "source": [
    "x * 2 - 1"
   ]
  },
  {
   "cell_type": "markdown",
   "metadata": {},
   "source": [
    "Operations can be carried out between vectors too:"
   ]
  },
  {
   "cell_type": "code",
   "execution_count": 32,
   "metadata": {},
   "outputs": [
    {
     "data": {
      "text/html": [
       "<ol class=list-inline>\n",
       "\t<li>4</li>\n",
       "\t<li>2</li>\n",
       "\t<li>6</li>\n",
       "\t<li>4</li>\n",
       "\t<li>10</li>\n",
       "\t<li>17</li>\n",
       "\t<li>15</li>\n",
       "</ol>\n"
      ],
      "text/latex": [
       "\\begin{enumerate*}\n",
       "\\item 4\n",
       "\\item 2\n",
       "\\item 6\n",
       "\\item 4\n",
       "\\item 10\n",
       "\\item 17\n",
       "\\item 15\n",
       "\\end{enumerate*}\n"
      ],
      "text/markdown": [
       "1. 4\n",
       "2. 2\n",
       "3. 6\n",
       "4. 4\n",
       "5. 10\n",
       "6. 17\n",
       "7. 15\n",
       "\n",
       "\n"
      ],
      "text/plain": [
       "[1]  4  2  6  4 10 17 15"
      ]
     },
     "metadata": {},
     "output_type": "display_data"
    }
   ],
   "source": [
    "y <- c(3, 1, 4, 1, 5, 9, 2)\n",
    "x + y"
   ]
  },
  {
   "cell_type": "markdown",
   "metadata": {},
   "source": [
    "There are other ways of defining a vector. Numerical sequences can be generated using the seq() function. These can come in handy when timepoints have to be defined to examine a physical process over some period.  \n",
    "seq() takes at least two numbers as arguments: the lower and upper bounds of an interval. The R interpreter will then generate a sequence of numbers between the two limits using a step size of 1. If a third number is provided, this will be considered as a step size."
   ]
  },
  {
   "cell_type": "code",
   "execution_count": 1,
   "metadata": {},
   "outputs": [
    {
     "name": "stdout",
     "output_type": "stream",
     "text": [
      "[1] 0 1\n"
     ]
    }
   ],
   "source": [
    "t <- seq(0, 1)\n",
    "print(t)"
   ]
  },
  {
   "cell_type": "code",
   "execution_count": 10,
   "metadata": {},
   "outputs": [
    {
     "name": "stdout",
     "output_type": "stream",
     "text": [
      " [1] 0.0 0.1 0.2 0.3 0.4 0.5 0.6 0.7 0.8 0.9 1.0\n"
     ]
    }
   ],
   "source": [
    "t <- seq(0, 1, 0.1)\n",
    "print(t)"
   ]
  },
  {
   "cell_type": "markdown",
   "metadata": {},
   "source": [
    "As mentioned before, vectors can contain logical values too (i.e. TRUE or FALSE). These values can represent states (e.g. a patient having type 2 diabetes) or can be a result of evaluating a logical expression, as shown below. We want to find the negative values in the difference between vectors x and y (defined earlier)."
   ]
  },
  {
   "cell_type": "code",
   "execution_count": 14,
   "metadata": {},
   "outputs": [
    {
     "name": "stdout",
     "output_type": "stream",
     "text": [
      "[1] -2  0 -2  2  0 -1 11\n",
      "[1]  TRUE FALSE  TRUE FALSE FALSE  TRUE FALSE\n"
     ]
    }
   ],
   "source": [
    "print(x - y)\n",
    "negatives <- (x - y) < 0\n",
    "print(negatives)"
   ]
  },
  {
   "cell_type": "markdown",
   "metadata": {},
   "source": [
    "There is a special data type in R, called NaN (not a number) and another one called NA (not available). These two don't refer to a specific value, but rather represent an undefined value (e.g. 0/0 would evaluate to NaN) or a missing value (in the case of NA)."
   ]
  },
  {
   "cell_type": "code",
   "execution_count": 15,
   "metadata": {},
   "outputs": [
    {
     "name": "stdout",
     "output_type": "stream",
     "text": [
      "[1]   1   2   3 NaN\n"
     ]
    }
   ],
   "source": [
    "x <- c(1, 2, 3, 0/0)\n",
    "print(x)"
   ]
  },
  {
   "cell_type": "markdown",
   "metadata": {},
   "source": [
    "The R interpreter always does what it is being told to do, therefore if we want to perform operations on a vector that contains NaN or NA values, those operations will likely return NaN or NA as a result. R needs to be told to skip NaN or NA values from operations. The example below shows that the average of the numbers defined in vector x cannot be determined if we also consider the NaN element."
   ]
  },
  {
   "cell_type": "code",
   "execution_count": 16,
   "metadata": {},
   "outputs": [
    {
     "data": {
      "text/html": [
       "NaN"
      ],
      "text/latex": [
       "NaN"
      ],
      "text/markdown": [
       "NaN"
      ],
      "text/plain": [
       "[1] NaN"
      ]
     },
     "metadata": {},
     "output_type": "display_data"
    }
   ],
   "source": [
    "mean(x)"
   ]
  },
  {
   "cell_type": "markdown",
   "metadata": {},
   "source": [
    "Once we remove that element, we get the average of 1, 2, and 3. To do so, we can use a named parameter of the ```mean()``` function. Named parameters (na.rm in this case) do not have to listed in any particular order in the parameter list of a function. The ```na.rm``` parameter indicates to the ```mean()``` function whether NA values should be ignored during the calculation."
   ]
  },
  {
   "cell_type": "code",
   "execution_count": 17,
   "metadata": {},
   "outputs": [
    {
     "data": {
      "text/html": [
       "2"
      ],
      "text/latex": [
       "2"
      ],
      "text/markdown": [
       "2"
      ],
      "text/plain": [
       "[1] 2"
      ]
     },
     "metadata": {},
     "output_type": "display_data"
    }
   ],
   "source": [
    "mean(x, na.rm=TRUE)"
   ]
  },
  {
   "cell_type": "markdown",
   "metadata": {},
   "source": [
    "__Q:__ Create a sequence of numbers from 20 to 50 then find the mean of these numbers. Find the sum of numbers from 51 to 91."
   ]
  },
  {
   "cell_type": "code",
   "execution_count": null,
   "metadata": {},
   "outputs": [],
   "source": []
  },
  {
   "cell_type": "markdown",
   "metadata": {},
   "source": [
    "It is sometimes necessary to refer to a __specific element__ or a __portion__ of a vector as part of a subset calculation. This can be done by indexing. R allows indexing of vectors using square brackets ([]) that take one number of a logical expression as an input. For instance, the following line will return the second element of vector x:"
   ]
  },
  {
   "cell_type": "code",
   "execution_count": 18,
   "metadata": {},
   "outputs": [
    {
     "data": {
      "text/html": [
       "2"
      ],
      "text/latex": [
       "2"
      ],
      "text/markdown": [
       "2"
      ],
      "text/plain": [
       "[1] 2"
      ]
     },
     "metadata": {},
     "output_type": "display_data"
    }
   ],
   "source": [
    "x[2]"
   ]
  },
  {
   "cell_type": "markdown",
   "metadata": {},
   "source": [
    "While this line will return all elements between element 2 and element 3 (so just elements 2 and 3 in this case)."
   ]
  },
  {
   "cell_type": "code",
   "execution_count": 19,
   "metadata": {},
   "outputs": [
    {
     "data": {
      "text/html": [
       "<ol class=list-inline>\n",
       "\t<li>2</li>\n",
       "\t<li>3</li>\n",
       "</ol>\n"
      ],
      "text/latex": [
       "\\begin{enumerate*}\n",
       "\\item 2\n",
       "\\item 3\n",
       "\\end{enumerate*}\n"
      ],
      "text/markdown": [
       "1. 2\n",
       "2. 3\n",
       "\n",
       "\n"
      ],
      "text/plain": [
       "[1] 2 3"
      ]
     },
     "metadata": {},
     "output_type": "display_data"
    }
   ],
   "source": [
    "x[2:3]"
   ]
  },
  {
   "cell_type": "markdown",
   "metadata": {},
   "source": [
    "Indexing can also be used to __exclude__ elements from a vector by prefixing the index term with a minus sign."
   ]
  },
  {
   "cell_type": "code",
   "execution_count": 20,
   "metadata": {},
   "outputs": [
    {
     "data": {
      "text/html": [
       "<ol class=list-inline>\n",
       "\t<li>1</li>\n",
       "\t<li>3</li>\n",
       "\t<li>NaN</li>\n",
       "</ol>\n"
      ],
      "text/latex": [
       "\\begin{enumerate*}\n",
       "\\item 1\n",
       "\\item 3\n",
       "\\item NaN\n",
       "\\end{enumerate*}\n"
      ],
      "text/markdown": [
       "1. 1\n",
       "2. 3\n",
       "3. NaN\n",
       "\n",
       "\n"
      ],
      "text/plain": [
       "[1]   1   3 NaN"
      ]
     },
     "metadata": {},
     "output_type": "display_data"
    }
   ],
   "source": [
    "x[-2]"
   ]
  },
  {
   "cell_type": "markdown",
   "metadata": {},
   "source": [
    "A more complicated way to refer to vector elements is by constructing logical expression. Let's say we want to have only the numeric elements that are greater than 1. It may be tempting to try this:"
   ]
  },
  {
   "cell_type": "code",
   "execution_count": 21,
   "metadata": {},
   "outputs": [
    {
     "data": {
      "text/html": [
       "<ol class=list-inline>\n",
       "\t<li>2</li>\n",
       "\t<li>3</li>\n",
       "\t<li>&lt;NA&gt;</li>\n",
       "</ol>\n"
      ],
      "text/latex": [
       "\\begin{enumerate*}\n",
       "\\item 2\n",
       "\\item 3\n",
       "\\item <NA>\n",
       "\\end{enumerate*}\n"
      ],
      "text/markdown": [
       "1. 2\n",
       "2. 3\n",
       "3. &lt;NA&gt;\n",
       "\n",
       "\n"
      ],
      "text/plain": [
       "[1]  2  3 NA"
      ]
     },
     "metadata": {},
     "output_type": "display_data"
    }
   ],
   "source": [
    "x[x > 1]"
   ]
  },
  {
   "cell_type": "markdown",
   "metadata": {},
   "source": [
    "... but it will return the NA element too, which we didn't want. So we'd have to \"filter\" that one out, by combining the greater than condition with a function that only returns indices of non-NA elements. Since we want to have the two conditions to be true simultaneously, we use the & operator which corresponds to logical __and__. Logical __or__ can be achieved with | and logical __negation__ is represented by !  \n",
    "To determine is an element is NA the ```is.na()``` function can be used. This function checks if a passed value (or entire vector) is NA and returns TRUE for NA elements and FALSE otherwise."
   ]
  },
  {
   "cell_type": "code",
   "execution_count": 22,
   "metadata": {},
   "outputs": [
    {
     "data": {
      "text/html": [
       "<ol class=list-inline>\n",
       "\t<li>2</li>\n",
       "\t<li>3</li>\n",
       "</ol>\n"
      ],
      "text/latex": [
       "\\begin{enumerate*}\n",
       "\\item 2\n",
       "\\item 3\n",
       "\\end{enumerate*}\n"
      ],
      "text/markdown": [
       "1. 2\n",
       "2. 3\n",
       "\n",
       "\n"
      ],
      "text/plain": [
       "[1] 2 3"
      ]
     },
     "metadata": {},
     "output_type": "display_data"
    }
   ],
   "source": [
    "x[!is.na(x) & x > 1]"
   ]
  },
  {
   "cell_type": "code",
   "execution_count": 43,
   "metadata": {},
   "outputs": [
    {
     "data": {
      "text/html": [
       "<ol class=list-inline>\n",
       "\t<li>1</li>\n",
       "\t<li>3</li>\n",
       "</ol>\n"
      ],
      "text/latex": [
       "\\begin{enumerate*}\n",
       "\\item 1\n",
       "\\item 3\n",
       "\\end{enumerate*}\n"
      ],
      "text/markdown": [
       "1. 1\n",
       "2. 3\n",
       "\n",
       "\n"
      ],
      "text/plain": [
       "[1] 1 3"
      ]
     },
     "metadata": {},
     "output_type": "display_data"
    }
   ],
   "source": [
    "x[!is.na(x) & (x == 1 | x == 3)]"
   ]
  },
  {
   "cell_type": "markdown",
   "metadata": {},
   "source": [
    "In addition to arithmetic and logical operations, several mathematical functions are available in R: min, max, log, exp, sin, cos, tan all work in the usual way."
   ]
  },
  {
   "cell_type": "code",
   "execution_count": 23,
   "metadata": {},
   "outputs": [
    {
     "name": "stdout",
     "output_type": "stream",
     "text": [
      "[1] 3 1 4 1 5 9 2\n"
     ]
    },
    {
     "data": {
      "text/html": [
       "9"
      ],
      "text/latex": [
       "9"
      ],
      "text/markdown": [
       "9"
      ],
      "text/plain": [
       "[1] 9"
      ]
     },
     "metadata": {},
     "output_type": "display_data"
    }
   ],
   "source": [
    "print(y)\n",
    "max(y)"
   ]
  },
  {
   "cell_type": "markdown",
   "metadata": {},
   "source": [
    "There are two special functions that can tell more about a vector. length() provides the number of elements in a vector, while range() returns the minimum and maximum values of a vector - corresponding to ```c(min(y), max(y))```."
   ]
  },
  {
   "cell_type": "code",
   "execution_count": 24,
   "metadata": {
    "scrolled": true
   },
   "outputs": [
    {
     "data": {
      "text/html": [
       "7"
      ],
      "text/latex": [
       "7"
      ],
      "text/markdown": [
       "7"
      ],
      "text/plain": [
       "[1] 7"
      ]
     },
     "metadata": {},
     "output_type": "display_data"
    },
    {
     "data": {
      "text/html": [
       "<ol class=list-inline>\n",
       "\t<li>1</li>\n",
       "\t<li>9</li>\n",
       "</ol>\n"
      ],
      "text/latex": [
       "\\begin{enumerate*}\n",
       "\\item 1\n",
       "\\item 9\n",
       "\\end{enumerate*}\n"
      ],
      "text/markdown": [
       "1. 1\n",
       "2. 9\n",
       "\n",
       "\n"
      ],
      "text/plain": [
       "[1] 1 9"
      ]
     },
     "metadata": {},
     "output_type": "display_data"
    }
   ],
   "source": [
    "length(y)\n",
    "range(y)"
   ]
  },
  {
   "cell_type": "markdown",
   "metadata": {},
   "source": [
    "__Q:__ Define a vector of 20 elements randomly sampled from a normal distribution with a mean of 60. Print the vector then print every third element of the vector. (Hint: use the ```rnorm()``` function.)"
   ]
  },
  {
   "cell_type": "code",
   "execution_count": null,
   "metadata": {},
   "outputs": [],
   "source": []
  },
  {
   "cell_type": "markdown",
   "metadata": {},
   "source": [
    "## Other ways to structure data\n",
    "In the first part we only used vectors - a collection of values of the same type (e.g. numeric, logical). They are useful for storing simple, homogenous datasets (e.g. Fibonacci numbers, heights of a group of people). The moment a more complicated set of measurements or an entire data set arises, vectors become disadvantageous.  \n",
    "wLet's look at an experiment involving growing bacteria. Let's assume that we have 5 petri dishes each containing the same type of bacteria, however, four of the five bacteria have been genetically modified to alter their growth rate. We will follow up the area of the petri dishes taken up by bacteria over 7 days, taking a note of the area occupied by various bacteria in their petri dish every day. By the end of the week we will end up with 5 x 7 = 35 measurements. If we wanted to analyse these measurements we could put them all in a vector, but then teasing out the different days and petri dishes would be difficult. However, we can organise the measurements in a \"table\" or a __matrix__, as it is called in R. Matrices are two-dimensional data structures that can contain the same data types as a vector - in our case numeric values. A matrix can be defined as a vector whose elements we reogranise to fit the particulars of our data set."
   ]
  },
  {
   "cell_type": "code",
   "execution_count": 41,
   "metadata": {},
   "outputs": [
    {
     "name": "stdout",
     "output_type": "stream",
     "text": [
      "     [,1] [,2] [,3] [,4] [,5] [,6] [,7]\n",
      "[1,]    0   10   20   30   40   60   70\n",
      "[2,]    0   10   20   40   80   90  100\n",
      "[3,]    0   20   40   60   80  100  100\n",
      "[4,]    0   10   30   70  100  100  100\n",
      "[5,]    0   40   80  100  100  100  100\n"
     ]
    }
   ],
   "source": [
    "# Values in this matrix refer to the percentage of area occupied by bacteria in each petri dish\n",
    "areas <- matrix(c(0, 0, 0, 0, 0, 10, 10, 20, 10, 40, 20, 20, 40, 30, 80, 30, 40, 60, 70, 100, 40, 80, 80, 100, 100, 60, 90, 100, 100, 100, 70, 100, 100, 100, 100), \n",
    "                nrow=5, ncol=7)\n",
    "print(areas)"
   ]
  },
  {
   "cell_type": "markdown",
   "metadata": {},
   "source": [
    "You may have noticed that the code snippet above starts with a line commencing with ```#```. Such lines are code comments and are ignored by the R interpreter. This means they can be used to annotate the code for future readability.  \n",
    "Indexing of matrices is very similar to indexing vectors, the difference being that for matrices both a row and a column index has to be specified. To select the weekly evolution of areas in dish number 3, we can write:"
   ]
  },
  {
   "cell_type": "code",
   "execution_count": 42,
   "metadata": {},
   "outputs": [
    {
     "name": "stdout",
     "output_type": "stream",
     "text": [
      "[1]   0  20  40  60  80 100 100\n"
     ]
    }
   ],
   "source": [
    "print(areas[3,])"
   ]
  },
  {
   "cell_type": "markdown",
   "metadata": {},
   "source": [
    "Notice how there now is a comma inside the square brackets containing the indices. The term before the comma refers to rows and the one after the comma refers to columns. In the example above we only provided a row index, meaning that only values on row 3 would be returned, but by skipping a column index values from all columns will be included in the result. To return all observations made on day 5 we would do opposite:"
   ]
  },
  {
   "cell_type": "code",
   "execution_count": 43,
   "metadata": {},
   "outputs": [
    {
     "name": "stdout",
     "output_type": "stream",
     "text": [
      "[1]  40  80  80 100 100\n"
     ]
    }
   ],
   "source": [
    "print(areas[,5])"
   ]
  },
  {
   "cell_type": "markdown",
   "metadata": {},
   "source": [
    "__Arrays__ are extending the limit of two-dimensionality of matrices by allowing to add additional dimensions. Using the experiment from above, we may choose to examine multiple bacteria at the same time and evaluate their growth rates. Thus, we may end up with two or more sets of 5 x 7 matrices. Instead of using a single matrix for each bacterium, we could store all the measurements in an array. Note that the elements of an array are passed on as a vector and so are the dimensions. ```dim=c(5, 7, 2)``` refers to an array of size 5 x 7 x 2."
   ]
  },
  {
   "cell_type": "code",
   "execution_count": 44,
   "metadata": {},
   "outputs": [
    {
     "name": "stdout",
     "output_type": "stream",
     "text": [
      ", , 1\n",
      "\n",
      "     [,1] [,2] [,3] [,4] [,5] [,6] [,7]\n",
      "[1,]    0   10   20   30   40   60   70\n",
      "[2,]    0   10   20   40   80   90  100\n",
      "[3,]    0   20   40   60   80  100  100\n",
      "[4,]    0   10   30   70  100  100  100\n",
      "[5,]    0   40   80  100  100  100  100\n",
      "\n",
      ", , 2\n",
      "\n",
      "     [,1] [,2] [,3] [,4] [,5] [,6] [,7]\n",
      "[1,]    0   10   20   30   40   75   90\n",
      "[2,]    0   10   20   35   70   90  100\n",
      "[3,]    0   10   30   50   60   80  100\n",
      "[4,]    0   10   30   59   78   88  100\n",
      "[5,]    0   20   55   77   90  100  100\n",
      "\n"
     ]
    }
   ],
   "source": [
    "areasArray <- array(c(0, 0, 0, 0, 0, 10, 10, 20, 10, 40, 20, 20, 40, 30, 80, 30, 40, 60, 70, 100, 40, 80, 80, 100, 100, 60, 90, 100, 100, 100, 70, 100, 100, 100, 100, \n",
    "                      0, 0, 0, 0, 0, 10, 10, 10, 10, 20, 20, 20, 30, 30, 55, 30, 35, 50, 59, 77, 40, 70, 60, 78, 90, 75, 90, 80, 88, 100, 90, 100, 100, 100, 100), \n",
    "                    dim=c(5, 7, 2))\n",
    "print(areasArray)"
   ]
  },
  {
   "cell_type": "markdown",
   "metadata": {},
   "source": [
    "R also allows mixing of different data types via the use of __lists__. This data structure allows the \"packaging\" of more than one data type into a single data unit. In addition, elements of a list can be named, making it easier to reference them. Let's now consider a series of concentration measurements taken at equal time points. Let's also assume that once the concentration reaches a fixed value, a a light bulb is turned on (for instance to signal a dangerous concentration of lead in running water). If we want to store the time points, concentrations and the state of the light bulb, we could construct a list:"
   ]
  },
  {
   "cell_type": "code",
   "execution_count": 8,
   "metadata": {},
   "outputs": [
    {
     "name": "stdout",
     "output_type": "stream",
     "text": [
      "$TimePoints\n",
      " [1]  0  1  2  3  4  5  6  7  8  9 10\n",
      "\n",
      "$LeadConcentration\n",
      "[1]  1.0  2.0  1.5  3.0  4.0  6.0 11.0 15.0  8.0\n",
      "\n",
      "$BulbState\n",
      "[1] FALSE FALSE FALSE FALSE FALSE FALSE  TRUE  TRUE FALSE\n",
      "\n"
     ]
    }
   ],
   "source": [
    "# We will read the concentration value every minute; concentration is defined in ug/l;\n",
    "# we encode the bulb's state with 1 if it's on and 0 if it's off. A cut-off of 10 ug/l\n",
    "# will be considered as the upper limit of acceptable lead concentration in water.\n",
    "waterQualityList <- list(seq(0, 10, 1), \n",
    "                         c(1.0, 2.0, 1.5, 3.0, 4.0, 6.0, 11.0, 15.0, 8.0), \n",
    "                         c(FALSE, FALSE, FALSE, FALSE, FALSE, FALSE, TRUE, TRUE, FALSE))\n",
    "names(waterQualityList) <- c(\"TimePoints\", \"LeadConcentration\", \"BulbState\")\n",
    "print(waterQualityList)"
   ]
  },
  {
   "cell_type": "markdown",
   "metadata": {},
   "source": [
    "From here on, we can operate on list elements just as if they were vectors, by simply referencing them as ```waterQualityList$TimePoints```, for instance. Alternatively, we can always use the square bracket-based indexing, but instead of only using one pair of brackets, we'd have to embed two sets in one another:"
   ]
  },
  {
   "cell_type": "code",
   "execution_count": 19,
   "metadata": {},
   "outputs": [
    {
     "name": "stdout",
     "output_type": "stream",
     "text": [
      "[1]  1.0  2.0  1.5  3.0  4.0  6.0 11.0 15.0  8.0\n"
     ]
    }
   ],
   "source": [
    "# Print lead concentrations\n",
    "print(waterQualityList[[2]])"
   ]
  },
  {
   "cell_type": "markdown",
   "metadata": {},
   "source": [
    "Since lead concentrations are stored in a vector, we can now reference individual or group elements of this vector by appending a single set of brackets at the end of the expression from above:"
   ]
  },
  {
   "cell_type": "code",
   "execution_count": 21,
   "metadata": {},
   "outputs": [
    {
     "name": "stdout",
     "output_type": "stream",
     "text": [
      "[1]  4  6 11 15  8\n"
     ]
    }
   ],
   "source": [
    "# Print last five measurements\n",
    "print(waterQualityList[[2]][5:9])"
   ]
  },
  {
   "cell_type": "markdown",
   "metadata": {},
   "source": [
    "R offers support to represent categorical data, i.e. data that can take only a finite number of values. Cardinal directions are a good example as they can only take four values: north, south, east and west. Such data can be stored in __factors__. Let's consider now a group of patients suspected of having non-alcoholic fatty liver disease. These patients have all undergone liver biopsy and the amount of fat in the sample was determined. This is a semi-quantitative measure as it only reports the relative area of fat globules in a given biopsy sample. Depending on this relative area, steatosis (i.e. fat) is staged into four categories: \n",
    "1. S0: fat area < 5%\n",
    "2. S1: 5% $\\geq$ fat area < 33%\n",
    "3. S2: 33% $\\geq$ fat area < 66%\n",
    "4. S3: fat area $\\geq$ 66%\n",
    "In the following example we will define a factor to describe steatosis stages and then determine the average relative area of fat globules within each steatosis stage group."
   ]
  },
  {
   "cell_type": "code",
   "execution_count": 6,
   "metadata": {},
   "outputs": [
    {
     "data": {
      "text/html": [
       "<ol class=list-inline>\n",
       "\t<li>'S0'</li>\n",
       "\t<li>'S1'</li>\n",
       "\t<li>'S2'</li>\n",
       "\t<li>'S3'</li>\n",
       "</ol>\n"
      ],
      "text/latex": [
       "\\begin{enumerate*}\n",
       "\\item 'S0'\n",
       "\\item 'S1'\n",
       "\\item 'S2'\n",
       "\\item 'S3'\n",
       "\\end{enumerate*}\n"
      ],
      "text/markdown": [
       "1. 'S0'\n",
       "2. 'S1'\n",
       "3. 'S2'\n",
       "4. 'S3'\n",
       "\n",
       "\n"
      ],
      "text/plain": [
       "[1] \"S0\" \"S1\" \"S2\" \"S3\""
      ]
     },
     "metadata": {},
     "output_type": "display_data"
    }
   ],
   "source": [
    "# Define the factor first\n",
    "steatosisStage <- c(\"S0\", \"S0\", \"S2\", \"S1\", \"S2\", \"S0\", \"S1\", \"S3\", \"S1\", \"S2\", \"S3\")\n",
    "steatosisStageF <- factor(steatosisStage)\n",
    "levels(steatosisStageF)"
   ]
  },
  {
   "cell_type": "code",
   "execution_count": 5,
   "metadata": {},
   "outputs": [],
   "source": [
    "# Then define relative areas in biopsy samples\n",
    "fatFraction <- c(2.3, 3.0, 45.3, 12.5, 35.6, 0.6, 7.8, 73.7, 13.3, 40.5, 89.0)"
   ]
  },
  {
   "cell_type": "markdown",
   "metadata": {},
   "source": [
    "Finally, we can apply the mean function on the relative areas corresponding to each steatosis stage."
   ]
  },
  {
   "cell_type": "code",
   "execution_count": 7,
   "metadata": {
    "scrolled": true
   },
   "outputs": [
    {
     "data": {
      "text/html": [
       "<dl class=dl-horizontal>\n",
       "\t<dt>S0</dt>\n",
       "\t\t<dd>1.96666666666667</dd>\n",
       "\t<dt>S1</dt>\n",
       "\t\t<dd>11.2</dd>\n",
       "\t<dt>S2</dt>\n",
       "\t\t<dd>40.4666666666667</dd>\n",
       "\t<dt>S3</dt>\n",
       "\t\t<dd>81.35</dd>\n",
       "</dl>\n"
      ],
      "text/latex": [
       "\\begin{description*}\n",
       "\\item[S0] 1.96666666666667\n",
       "\\item[S1] 11.2\n",
       "\\item[S2] 40.4666666666667\n",
       "\\item[S3] 81.35\n",
       "\\end{description*}\n"
      ],
      "text/markdown": [
       "S0\n",
       ":   1.96666666666667S1\n",
       ":   11.2S2\n",
       ":   40.4666666666667S3\n",
       ":   81.35\n",
       "\n"
      ],
      "text/plain": [
       "       S0        S1        S2        S3 \n",
       " 1.966667 11.200000 40.466667 81.350000 "
      ]
     },
     "metadata": {},
     "output_type": "display_data"
    }
   ],
   "source": [
    "tapply(fatFraction, steatosisStageF, mean)"
   ]
  },
  {
   "cell_type": "markdown",
   "metadata": {},
   "source": [
    "The final data stucture we will be covering in this first part of the course is the __data frame__. This can be imagined as a two-dimensional table with columns representing different observations (possibly of  different data type) and rows are unique combinations of those observations.  \n",
    "A typical example is a data table consisting of measurements taken from patients undergoing blood tests and liver stiffness measurements (LSM) using vibration-controlled transient elastography (VCTE). The code below defines a portion of such a table. You will notice that columns in the data frame may contain data of a different type from other columns. However, data in a column should be of the same data type."
   ]
  },
  {
   "cell_type": "code",
   "execution_count": 7,
   "metadata": {},
   "outputs": [
    {
     "name": "stdout",
     "output_type": "stream",
     "text": [
      "  patientId age diabetic ALT  LSM\n",
      "1         1  76     TRUE  33  4.4\n",
      "2         2  18    FALSE 362 11.0\n",
      "3         3  47    FALSE 101 16.9\n",
      "4         4  62     TRUE  80 35.3\n",
      "5         5  28    FALSE 168  6.2\n"
     ]
    }
   ],
   "source": [
    "patientData <- data.frame(\n",
    "   patientId = c (1:5),\n",
    "   age = c(76, 18, 47, 62, 28),\n",
    "   diabetic = c(TRUE, FALSE, FALSE, TRUE, FALSE),\n",
    "   ALT = c(33, 362, 101, 80, 168),\n",
    "   LSM = c(4.4, 11, 16.9, 35.3, 6.2)\n",
    ")\n",
    "print(patientData)"
   ]
  },
  {
   "cell_type": "markdown",
   "metadata": {},
   "source": [
    "Data frames can also be indexed, in a similar manner to matrices using a pair of indexing expressions within square brackets. If we want to extract the age and ALT of patient 2 and 4, we could write:"
   ]
  },
  {
   "cell_type": "code",
   "execution_count": 29,
   "metadata": {
    "scrolled": false
   },
   "outputs": [
    {
     "data": {
      "text/html": [
       "<table>\n",
       "<thead><tr><th></th><th scope=col>age</th><th scope=col>ALT</th></tr></thead>\n",
       "<tbody>\n",
       "\t<tr><th scope=row>2</th><td>18 </td><td>362</td></tr>\n",
       "\t<tr><th scope=row>4</th><td>62 </td><td> 80</td></tr>\n",
       "</tbody>\n",
       "</table>\n"
      ],
      "text/latex": [
       "\\begin{tabular}{r|ll}\n",
       "  & age & ALT\\\\\n",
       "\\hline\n",
       "\t2 & 18  & 362\\\\\n",
       "\t4 & 62  &  80\\\\\n",
       "\\end{tabular}\n"
      ],
      "text/markdown": [
       "\n",
       "| <!--/--> | age | ALT |\n",
       "|---|---|---|\n",
       "| 2 | 18  | 362 |\n",
       "| 4 | 62  |  80 |\n",
       "\n"
      ],
      "text/plain": [
       "  age ALT\n",
       "2 18  362\n",
       "4 62   80"
      ]
     },
     "metadata": {},
     "output_type": "display_data"
    }
   ],
   "source": [
    "patientData[c(2, 4), c(2, 4)]"
   ]
  },
  {
   "cell_type": "markdown",
   "metadata": {},
   "source": [
    "__Q:__ Reduce the table defined above to only contain the ```patiendId```, ```age``` and ```LSM``` columns."
   ]
  },
  {
   "cell_type": "code",
   "execution_count": null,
   "metadata": {},
   "outputs": [],
   "source": []
  },
  {
   "cell_type": "markdown",
   "metadata": {},
   "source": [
    "This concludes the first part of the Introduction to R course. You should now be able to identify data structures available in R to store data and decide what is a good choice of data structure in some cases.  \n",
    "The next part will focus on more R syntax as well as on some functions that are very useful for data manipulation and are available in base R or in one of many packages written for R."
   ]
  }
 ],
 "metadata": {
  "kernelspec": {
   "display_name": "R",
   "language": "R",
   "name": "ir"
  },
  "language_info": {
   "codemirror_mode": "r",
   "file_extension": ".r",
   "mimetype": "text/x-r-source",
   "name": "R",
   "pygments_lexer": "r",
   "version": "3.6.1"
  }
 },
 "nbformat": 4,
 "nbformat_minor": 4
}
