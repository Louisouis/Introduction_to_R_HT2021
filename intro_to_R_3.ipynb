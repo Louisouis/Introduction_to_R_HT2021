{
 "cells": [
  {
   "cell_type": "markdown",
   "metadata": {},
   "source": [
    "# Introduction to R - Part 3\n",
    "In this final par of Introduction to R we will look at in-depth data analysis and reporting techniques. We will cover:  \n",
    "1. Performing statistical analysis on data frames\n",
    "2. Plotting data\n",
    "3. Reporting findings"
   ]
  },
  {
   "cell_type": "markdown",
   "metadata": {},
   "source": [
    "## 1. Performing statistical analysis on data frames\n",
    "R has functions for most statistical measures. We'll illustrate some of these using the NAFLD data set."
   ]
  },
  {
   "cell_type": "code",
   "execution_count": 37,
   "metadata": {
    "scrolled": false
   },
   "outputs": [
    {
     "data": {
      "text/html": [
       "53.5194805194805"
      ],
      "text/latex": [
       "53.5194805194805"
      ],
      "text/markdown": [
       "53.5194805194805"
      ],
      "text/plain": [
       "[1] 53.51948"
      ]
     },
     "metadata": {},
     "output_type": "display_data"
    },
    {
     "data": {
      "text/html": [
       "11.49440411863"
      ],
      "text/latex": [
       "11.49440411863"
      ],
      "text/markdown": [
       "11.49440411863"
      ],
      "text/plain": [
       "[1] 11.4944"
      ]
     },
     "metadata": {},
     "output_type": "display_data"
    },
    {
     "data": {
      "text/html": [
       "54"
      ],
      "text/latex": [
       "54"
      ],
      "text/markdown": [
       "54"
      ],
      "text/plain": [
       "[1] 54"
      ]
     },
     "metadata": {},
     "output_type": "display_data"
    },
    {
     "data": {
      "text/html": [
       "13"
      ],
      "text/latex": [
       "13"
      ],
      "text/markdown": [
       "13"
      ],
      "text/plain": [
       "[1] 13"
      ]
     },
     "metadata": {},
     "output_type": "display_data"
    }
   ],
   "source": [
    "nafldDataset <- read.csv(\"nafld_dataset2.csv\")\n",
    "\n",
    "# Let's compute the mean age in the patient group and the corresponding standard deviation\n",
    "mean(nafldDataset$age)\n",
    "sd(nafldDataset$age)\n",
    "\n",
    "# Now let's compute the median and IQR of age\n",
    "median(nafldDataset$age)\n",
    "IQR(nafldDataset$age)"
   ]
  },
  {
   "cell_type": "markdown",
   "metadata": {},
   "source": [
    "Let's now look at the mean and 95% confidence interval of the mean of patients' heights. We know that 95% confidence intervals can be estimated as: $$\\overline{x} \\pm t_{0.05, n-1}\\frac{s}{\\sqrt{n}}$$ where $n$ is the number of observations, $t_{0.05, n-1}$ is the two-tailed 5% t-value with $n-1$ degrees of freedom, $s$ is the standard devaition and $\\overline{x}$ is the mean of the observations."
   ]
  },
  {
   "cell_type": "code",
   "execution_count": 45,
   "metadata": {},
   "outputs": [
    {
     "name": "stdout",
     "output_type": "stream",
     "text": [
      "1.62336012932764 1.64513513513514 1.66691014094263 \n",
      "NULL\n"
     ]
    }
   ],
   "source": [
    "# We need to load the stats library for this contains functions related to the t-distribution.\n",
    "library(stats)\n",
    "\n",
    "m <- mean(nafldDataset$height, na.rm=TRUE)\n",
    "s <- sd(nafldDataset$height, na.rm=TRUE)\n",
    "n <- sum(!is.na(nafldDataset$height))\n",
    "\n",
    "# Calculate 95% confidence intervals of the mean height\n",
    "lower <- m - qt(1 - 0.05/2, n - 1) * s / sqrt(n)\n",
    "upper <- m + qt(1 - 0.05/2, n - 1) * s / sqrt(n)\n",
    "print(cat(c(lower, m, upper, \"\\n\")))"
   ]
  },
  {
   "cell_type": "markdown",
   "metadata": {},
   "source": [
    "__Q__: Writing two extra lines all the time to calculate cofidence intervals is tedious and boring. Write a function that takes the mean, standard deviation and number of observation and returns a vector with two elements: the lower and upper boundary of the 95% confidence interval."
   ]
  },
  {
   "cell_type": "code",
   "execution_count": null,
   "metadata": {},
   "outputs": [],
   "source": []
  },
  {
   "cell_type": "markdown",
   "metadata": {},
   "source": [
    "Performing t-tests in R is a simple task. While you can calculate the z-statistic of the test and compare it to the critical t-value determined from a t-distribution table, R offers a function that does all of this. Let's start with a single sample t-test to see whether the mean patient height is 1.7 m."
   ]
  },
  {
   "cell_type": "code",
   "execution_count": 49,
   "metadata": {
    "scrolled": true
   },
   "outputs": [
    {
     "data": {
      "text/plain": [
       "\n",
       "\tOne Sample t-test\n",
       "\n",
       "data:  nafldDataset$height\n",
       "t = -5.0216, df = 73, p-value = 3.509e-06\n",
       "alternative hypothesis: true mean is not equal to 1.7\n",
       "95 percent confidence interval:\n",
       " 1.62336 1.66691\n",
       "sample estimates:\n",
       "mean of x \n",
       " 1.645135 \n"
      ]
     },
     "metadata": {},
     "output_type": "display_data"
    }
   ],
   "source": [
    "t.test(nafldDataset$height, mu=1.7)"
   ]
  },
  {
   "cell_type": "markdown",
   "metadata": {},
   "source": [
    "Next, compare the heights between patients who have fibrosis stage of 3 or higher and patients with fibrosis stage lower than 3. In this case ```t.test()``` will perform the unequal variance or Welch two-sample test."
   ]
  },
  {
   "cell_type": "code",
   "execution_count": 47,
   "metadata": {
    "scrolled": true
   },
   "outputs": [
    {
     "data": {
      "text/plain": [
       "\n",
       "\tWelch Two Sample t-test\n",
       "\n",
       "data:  nafldDataset$height[nafldDataset$bx_fib >= 3] and nafldDataset$height[nafldDataset$bx_fib < 3]\n",
       "t = -0.4461, df = 69.053, p-value = 0.6569\n",
       "alternative hypothesis: true difference in means is not equal to 0\n",
       "95 percent confidence interval:\n",
       " -0.05149005  0.03267017\n",
       "sample estimates:\n",
       "mean of x mean of y \n",
       " 1.639286  1.648696 \n"
      ]
     },
     "metadata": {},
     "output_type": "display_data"
    }
   ],
   "source": [
    "t.test(nafldDataset$height[nafldDataset$bx_fib>=3], nafldDataset$height[nafldDataset$bx_fib<3])"
   ]
  },
  {
   "cell_type": "markdown",
   "metadata": {},
   "source": [
    "Some of the patients underwent lifestyle change and weight-reduction surgery and had their serum ALT levels measured again 6 months after the surgery. We can use the paired t-test to assess whether the treatment made any change to patients' ALT levels."
   ]
  },
  {
   "cell_type": "code",
   "execution_count": 51,
   "metadata": {},
   "outputs": [
    {
     "data": {
      "text/plain": [
       "\n",
       "\tPaired t-test\n",
       "\n",
       "data:  preSurgeryAlt and postSurgeryAlt\n",
       "t = 2.8846, df = 17, p-value = 0.01029\n",
       "alternative hypothesis: true difference in means is not equal to 0\n",
       "95 percent confidence interval:\n",
       "  4.118537 26.548130\n",
       "sample estimates:\n",
       "mean of the differences \n",
       "               15.33333 \n"
      ]
     },
     "metadata": {},
     "output_type": "display_data"
    }
   ],
   "source": [
    "preSurgeryAlt <- c(45, 141, 84, 22, 84, 54, 23, 32, 78, 26, 75, 68, 38, 73, 20, 158, 49, 44)\n",
    "postSurgeryAlt <- c(49, 78, 66, 34, 64, 43, 28, 29, 42, 24, 70, 41, 34, 52, 27, 87, 36, 34)\n",
    "t.test(preSurgeryAlt, postSurgeryAlt, paired=TRUE)"
   ]
  }
 ],
 "metadata": {
  "kernelspec": {
   "display_name": "R",
   "language": "R",
   "name": "ir"
  },
  "language_info": {
   "codemirror_mode": "r",
   "file_extension": ".r",
   "mimetype": "text/x-r-source",
   "name": "R",
   "pygments_lexer": "r",
   "version": "3.6.1"
  }
 },
 "nbformat": 4,
 "nbformat_minor": 4
}
